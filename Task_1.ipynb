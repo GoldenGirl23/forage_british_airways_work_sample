{
 "cells": [
  {
   "cell_type": "markdown",
   "metadata": {},
   "source": [
    "# Task 1\n",
    "\n",
    "---\n",
    "\n",
    "## Web scraping and analysis\n",
    "\n",
    "\n",
    "### Scraping data from Skytrax\n",
    "\n",
    "If you visit [https://www.airlinequality.com] you can see that there is a lot of data there. For this task, we are only interested in reviews related to British Airways and the Airline itself.\n",
    "\n",
    "If you navigate to this link: [https://www.airlinequality.com/airline-reviews/british-airways] you will see this data. Now, we can use `Python` and `BeautifulSoup` to collect all the links to the reviews and then to collect the text data on each of the individual review links."
   ]
  },
  {
   "cell_type": "code",
   "execution_count": 4,
   "metadata": {},
   "outputs": [
    {
     "name": "stderr",
     "output_type": "stream",
     "text": [
      "c:\\Users\\sonal\\miniconda3\\lib\\site-packages\\tqdm\\auto.py:22: TqdmWarning: IProgress not found. Please update jupyter and ipywidgets. See https://ipywidgets.readthedocs.io/en/stable/user_install.html\n",
      "  from .autonotebook import tqdm as notebook_tqdm\n"
     ]
    }
   ],
   "source": [
    "import requests\n",
    "from bs4 import BeautifulSoup\n",
    "import pandas as pd\n",
    "import re \n",
    "import nltk\n",
    "from nltk.tokenize import RegexpTokenizer\n",
    "from nltk.corpus import stopwords\n",
    "from sklearn.feature_extraction.text import CountVectorizer\n",
    "from sklearn.decomposition import LatentDirichletAllocation\n",
    "from textblob import TextBlob\n",
    "from transformers import pipeline\n",
    "import matplotlib.pyplot as plt\n",
    "from wordcloud import WordCloud, STOPWORDS, ImageColorGenerator"
   ]
  },
  {
   "cell_type": "code",
   "execution_count": 6,
   "metadata": {},
   "outputs": [],
   "source": [
    "data_path = r\"C:\\Users\\sonal\\OneDrive\\Desktop\\ba_data\""
   ]
  },
  {
   "cell_type": "code",
   "execution_count": null,
   "metadata": {},
   "outputs": [],
   "source": [
    "base_url = \"https://www.airlinequality.com/airline-reviews/british-airways\"\n",
    "pages = 10\n",
    "page_size = 100\n",
    "\n",
    "\n",
    "reviews = []\n",
    "\n",
    "# for i in range(1, pages + 1):\n",
    "for i in range(1, pages + 1):\n",
    "\n",
    "    print(f\"Scraping page {i}\")\n",
    "\n",
    "    # Create URL to collect links from paginated data\n",
    "    url = f\"{base_url}/page/{i}/?sortby=post_date%3ADesc&pagesize={page_size}\"\n",
    "\n",
    "    # Collect HTML data from this page\n",
    "    response = requests.get(url)\n",
    "\n",
    "    # Parse content\n",
    "    content = response.content\n",
    "    parsed_content = BeautifulSoup(content, 'html.parser')\n",
    "    for para in parsed_content.find_all(\"div\", {\"class\": \"text_content\"}):\n",
    "        reviews.append(para.get_text())\n",
    "    \n",
    "    print(f\"   ---> {len(reviews)} total reviews\")"
   ]
  },
  {
   "cell_type": "code",
   "execution_count": 4,
   "metadata": {},
   "outputs": [],
   "source": [
    "df = pd.DataFrame()\n",
    "df[\"reviews\"] = reviews\n",
    "df.head()\n",
    "pd.set_option('display.max_colwidth', None)"
   ]
  },
  {
   "cell_type": "code",
   "execution_count": 5,
   "metadata": {},
   "outputs": [
    {
     "data": {
      "text/html": [
       "<div>\n",
       "<style scoped>\n",
       "    .dataframe tbody tr th:only-of-type {\n",
       "        vertical-align: middle;\n",
       "    }\n",
       "\n",
       "    .dataframe tbody tr th {\n",
       "        vertical-align: top;\n",
       "    }\n",
       "\n",
       "    .dataframe thead th {\n",
       "        text-align: right;\n",
       "    }\n",
       "</style>\n",
       "<table border=\"1\" class=\"dataframe\">\n",
       "  <thead>\n",
       "    <tr style=\"text-align: right;\">\n",
       "      <th></th>\n",
       "      <th>reviews</th>\n",
       "    </tr>\n",
       "  </thead>\n",
       "  <tbody>\n",
       "    <tr>\n",
       "      <th>0</th>\n",
       "      <td>My daughter and I were denied boarding on our business class flight from Madrid to Heathrow in March 25, 2023, the first leg on our return flight to Victoria, Canada. No reason was given for the denied boarding by the check in staff at the British Airways counter in Madrid, who said they were only agents and told us to call British Airways. We were three hours early for the flight and had valid passports. After many tries we finally reached British Airways by phone, but we were told to call Expedia which had booked the flights. Expedia confirmed that we had been bumped from the flight, with no explanation as to why. Expedia then began a long process of finding alternative flights. Over the next 24 hours we had numerous calls with both Expedia and British Airways. Incredibly, the next available flights were 9 days later on April 3. This was almost unbelievable, but after many many tries it was the best we could do. Even though these were Business Class tickets. Part of the problem was that apparently rules did not allow any changes to routing for any segment of the flight. This nine day delay was a major problem for us. I had to miss work and my daughter was missing school. Further, we received no compensation from British Airways, no penalty fee, and not any reimbursement of our expenses for staying the nine extra days. After our return I began the British Airways online complaint process, and submitted all supporting documents. I received an email reply and a case reference number. And then nothing. I sent numerous follow up emails, and received no replies. It is now months later, and still I have not heard from British Airways. This is shocking, and definitely the worst airline service I have received for my thousands of flights over many decades. I am a very patient person and this is the first time I have commented on this type of forum. I think the public should be made aware of extremely poor customer service at British Airways.</td>\n",
       "    </tr>\n",
       "    <tr>\n",
       "      <th>1</th>\n",
       "      <td>Despite boarding being the usual free for all at LHR with groups 1-3 being called to board all at once. Whilst those passengers who had agreed to check in a bag in at the gate, getting to board before anyone else! However, the service on board was impeccable. Superb crew, friendly, attentive, interacting with passengers and generally appearing to be enjoying their job. Like BA in the old days and at its best. Food choice and quality seems to have improved too (no beef cheeks thankfully) and even the Club kitchen appears to have returned. Old style Club seating, but is at least better, and feels less cramped, on the 787's.</td>\n",
       "    </tr>\n",
       "    <tr>\n",
       "      <th>2</th>\n",
       "      <td>Flight cancelled, no crew! 9th September 2023, not peak holiday period so why such bad management by BA? Sent to the gate left standing of over and hour and then flight cancelled. As were other on that day. Why does BA continue to provide such poor service - a national disgrace.</td>\n",
       "    </tr>\n",
       "    <tr>\n",
       "      <th>3</th>\n",
       "      <td>The worst service ever, my baggage did not arrive on time. Both my flights were delayed. I will never fly them again.  Even the food was bad and your service.</td>\n",
       "    </tr>\n",
       "  </tbody>\n",
       "</table>\n",
       "</div>"
      ],
      "text/plain": [
       "                                                                                                                                                                                                                                                                                                                                                                                                                                                                                                                                                                                                                                                                                                                                                                                                                                                                                                                                                                                                                                                                                                                                                                                                                                                                                                                                                                                                                                                                                                                                                                                                                                                                                                                                                                                                                                                                                                                                                                                                                                            reviews\n",
       "0  My daughter and I were denied boarding on our business class flight from Madrid to Heathrow in March 25, 2023, the first leg on our return flight to Victoria, Canada. No reason was given for the denied boarding by the check in staff at the British Airways counter in Madrid, who said they were only agents and told us to call British Airways. We were three hours early for the flight and had valid passports. After many tries we finally reached British Airways by phone, but we were told to call Expedia which had booked the flights. Expedia confirmed that we had been bumped from the flight, with no explanation as to why. Expedia then began a long process of finding alternative flights. Over the next 24 hours we had numerous calls with both Expedia and British Airways. Incredibly, the next available flights were 9 days later on April 3. This was almost unbelievable, but after many many tries it was the best we could do. Even though these were Business Class tickets. Part of the problem was that apparently rules did not allow any changes to routing for any segment of the flight. This nine day delay was a major problem for us. I had to miss work and my daughter was missing school. Further, we received no compensation from British Airways, no penalty fee, and not any reimbursement of our expenses for staying the nine extra days. After our return I began the British Airways online complaint process, and submitted all supporting documents. I received an email reply and a case reference number. And then nothing. I sent numerous follow up emails, and received no replies. It is now months later, and still I have not heard from British Airways. This is shocking, and definitely the worst airline service I have received for my thousands of flights over many decades. I am a very patient person and this is the first time I have commented on this type of forum. I think the public should be made aware of extremely poor customer service at British Airways.\n",
       "1                                                                                                                                                                                                                                                                                                                                                                                                                                                                                                                                                                                                                                                                                                                                                                                                                                                                                                                                                                                                                                                                                                                                                                                                                                                                                                                                                                                             Despite boarding being the usual free for all at LHR with groups 1-3 being called to board all at once. Whilst those passengers who had agreed to check in a bag in at the gate, getting to board before anyone else! However, the service on board was impeccable. Superb crew, friendly, attentive, interacting with passengers and generally appearing to be enjoying their job. Like BA in the old days and at its best. Food choice and quality seems to have improved too (no beef cheeks thankfully) and even the Club kitchen appears to have returned. Old style Club seating, but is at least better, and feels less cramped, on the 787's.\n",
       "2                                                                                                                                                                                                                                                                                                                                                                                                                                                                                                                                                                                                                                                                                                                                                                                                                                                                                                                                                                                                                                                                                                                                                                                                                                                                                                                                                                                                                                                                                                                                                                                                                                                                                                                                                           Flight cancelled, no crew! 9th September 2023, not peak holiday period so why such bad management by BA? Sent to the gate left standing of over and hour and then flight cancelled. As were other on that day. Why does BA continue to provide such poor service - a national disgrace.\n",
       "3                                                                                                                                                                                                                                                                                                                                                                                                                                                                                                                                                                                                                                                                                                                                                                                                                                                                                                                                                                                                                                                                                                                                                                                                                                                                                                                                                                                                                                                                                                                                                                                                                                                                                                                                                                                                                                                                                    The worst service ever, my baggage did not arrive on time. Both my flights were delayed. I will never fly them again.  Even the food was bad and your service."
      ]
     },
     "execution_count": 5,
     "metadata": {},
     "output_type": "execute_result"
    }
   ],
   "source": [
    "# Remove leading unwanted text\n",
    "\n",
    "df = df[df['reviews'].str.contains('|', na=False)]\n",
    "df['reviews'] = df['reviews'].str.split('|').str[1].str.strip()\n",
    "\n",
    "# Reset the index\n",
    "df.reset_index(drop=True, inplace=True)\n",
    "df.iloc[:4]"
   ]
  },
  {
   "cell_type": "code",
   "execution_count": 37,
   "metadata": {},
   "outputs": [
    {
     "name": "stderr",
     "output_type": "stream",
     "text": [
      "[nltk_data] Downloading package stopwords to\n",
      "[nltk_data]     C:\\Users\\sonal\\AppData\\Roaming\\nltk_data...\n",
      "[nltk_data]   Package stopwords is already up-to-date!\n"
     ]
    },
    {
     "data": {
      "text/plain": [
       "True"
      ]
     },
     "execution_count": 37,
     "metadata": {},
     "output_type": "execute_result"
    }
   ],
   "source": [
    "nltk.download('stopwords')"
   ]
  },
  {
   "cell_type": "markdown",
   "metadata": {},
   "source": [
    "### Data cleaning"
   ]
  },
  {
   "cell_type": "code",
   "execution_count": 33,
   "metadata": {},
   "outputs": [
    {
     "data": {
      "text/html": [
       "<div>\n",
       "<style scoped>\n",
       "    .dataframe tbody tr th:only-of-type {\n",
       "        vertical-align: middle;\n",
       "    }\n",
       "\n",
       "    .dataframe tbody tr th {\n",
       "        vertical-align: top;\n",
       "    }\n",
       "\n",
       "    .dataframe thead th {\n",
       "        text-align: right;\n",
       "    }\n",
       "</style>\n",
       "<table border=\"1\" class=\"dataframe\">\n",
       "  <thead>\n",
       "    <tr style=\"text-align: right;\">\n",
       "      <th></th>\n",
       "      <th>Unnamed: 0</th>\n",
       "      <th>reviews</th>\n",
       "    </tr>\n",
       "  </thead>\n",
       "  <tbody>\n",
       "    <tr>\n",
       "      <th>0</th>\n",
       "      <td>0</td>\n",
       "      <td>despit board usual free lhr group call board w...</td>\n",
       "    </tr>\n",
       "    <tr>\n",
       "      <th>1</th>\n",
       "      <td>1</td>\n",
       "      <td>cancel crew th septemb peak holiday period bad...</td>\n",
       "    </tr>\n",
       "    <tr>\n",
       "      <th>2</th>\n",
       "      <td>2</td>\n",
       "      <td>worst servic ever baggag arriv time flight del...</td>\n",
       "    </tr>\n",
       "  </tbody>\n",
       "</table>\n",
       "</div>"
      ],
      "text/plain": [
       "   Unnamed: 0                                            reviews\n",
       "0           0  despit board usual free lhr group call board w...\n",
       "1           1  cancel crew th septemb peak holiday period bad...\n",
       "2           2  worst servic ever baggag arriv time flight del..."
      ]
     },
     "execution_count": 33,
     "metadata": {},
     "output_type": "execute_result"
    }
   ],
   "source": [
    "# Data cleaning\n",
    "\n",
    "my_stopwords = nltk.corpus.stopwords.words('english')\n",
    "query_words=['british', 'airways', 'flight', 'airport', 'luggage', 'heathrow', 'bag', 'london', 'custom']\n",
    "my_stopwords.extend(query_words)\n",
    "word_rooter = nltk.stem.snowball.PorterStemmer(ignore_stopwords=False).stem\n",
    "my_punctuation = '!\"$%&\\'()*+,-./:;<=>?[\\\\]^_`{|}~•@'\n",
    "\n",
    "def clean_text(text, bigrams=False):\n",
    "    text = text.lower() # lower case\n",
    "    text = re.sub('['+my_punctuation + ']+', ' ', text) # strip punctuation\n",
    "    text = re.sub('\\s+', ' ', text) #remove double spacing\n",
    "    text = re.sub('([0-9]+)', '', text) # remove numbers\n",
    "    text_token_list = [word for word in text.split(' ')\n",
    "                            if word not in my_stopwords] # remove stopwords\n",
    "\n",
    "    text_token_list = [word_rooter(word) if '#' not in word else word\n",
    "                        for word in text_token_list] # apply word rooter\n",
    "    if bigrams:\n",
    "        text_token_list = text_token_list+[text_token_list[i]+'_'+text_token_list[i+1]\n",
    "                                            for i in range(len(text_token_list)-1)]\n",
    "    text = ' '.join(text_token_list)\n",
    "    return text\n",
    "\n",
    "# Apply the updated preprocessing function\n",
    "df['reviews'] = df['reviews'].apply(clean_text)\n",
    "\n",
    "df.head(3)"
   ]
  },
  {
   "cell_type": "code",
   "execution_count": null,
   "metadata": {},
   "outputs": [],
   "source": [
    "# Data cleaning (simple)\n",
    "\n",
    "# Modify the preprocess_text function\n",
    "def preprocess_text(text):\n",
    "    # Use regular expression to remove non-alphanumeric characters\n",
    "    text = re.sub(r'[^a-zA-Z0-9\\s]', '', text)\n",
    "    return text\n",
    "\n",
    "# Apply the updated preprocessing function\n",
    "df['reviews'] = df['reviews'].apply(preprocess_text)\n",
    "\n",
    "df.head(3)"
   ]
  },
  {
   "cell_type": "code",
   "execution_count": 4,
   "metadata": {},
   "outputs": [],
   "source": [
    "df = pd.read_csv(data_path+\"\\BA_reviews_cleaned.csv\")"
   ]
  },
  {
   "cell_type": "markdown",
   "metadata": {},
   "source": [
    "### Topic Modelling"
   ]
  },
  {
   "cell_type": "code",
   "execution_count": 34,
   "metadata": {},
   "outputs": [
    {
     "name": "stdout",
     "output_type": "stream",
     "text": [
      "(1000, 543)\n",
      "['abl' 'absolut' 'accept' 'access' 'accommod' 'across' 'actual' 'add'\n",
      " 'addit' 'advis' 'age' 'agent' 'ago' 'ahead' 'air' 'aircraft' 'airlin'\n",
      " 'aisl' 'allow' 'almost' 'alreadi' 'also' 'altern' 'although' 'alway'\n",
      " 'amaz' 'announc' 'anoth' 'answer' 'anyon' 'anyth' 'apolog' 'app' 'appal'\n",
      " 'appear' 'area' 'around' 'arriv' 'ask' 'assist' 'attempt' 'attend'\n",
      " 'attent' 'attitud' 'avail' 'averag' 'avio' 'avoid' 'aw' 'away' 'b' 'ba'\n",
      " 'back' 'bad' 'bag' 'baggag' 'bar' 'basic' 'becom' 'bed' 'behind' 'best'\n",
      " 'better' 'big' 'bit' 'board' 'boe' 'book' 'bottl' 'breakfast' 'bu' 'busi'\n",
      " 'buy' 'cabin' 'call' 'came' 'can' 'cancel' 'cannot' 'card' 'care'\n",
      " 'carrier' 'case' 'caus' 'champagn' 'chang' 'charg' 'check' 'chees'\n",
      " 'chicken' 'choic' 'choos' 'citi' 'claim' 'class' 'clean' 'clear'\n",
      " 'clearli' 'close' 'club' 'coffe' 'cold' 'collect' 'come' 'comfort'\n",
      " 'compani' 'compens' 'complain' 'complaint' 'complet' 'confirm' 'connect'\n",
      " 'contact' 'continu' 'control' 'cost' 'could' 'couldn' 'counter' 'coupl'\n",
      " 'cours' 'covid' 'cramp' 'credit' 'crew' 'custom' 'cut' 'date' 'day'\n",
      " 'deal' 'decent' 'decid' 'definit' 'delay' 'deliv' 'depart' 'departur'\n",
      " 'desk' 'despit' 'destin' 'didn' 'differ' 'difficult' 'dinner' 'direct'\n",
      " 'disappoint' 'don' 'done' 'drink' 'drop' 'due' 'earli' 'easi' 'eat'\n",
      " 'economi' 'effici' 'either' 'els' 'email' 'empti' 'end' 'enjoy' 'enough'\n",
      " 'entertain' 'especi' 'etc' 'europ' 'even' 'eventu' 'ever' 'everi'\n",
      " 'everyon' 'everyth' 'excel' 'except' 'expect' 'expens' 'experi'\n",
      " 'experienc' 'explain' 'explan' 'extra' 'extrem' 'face' 'fact' 'famili'\n",
      " 'far' 'fare' 'fast' 'fault' 'fee' 'feel' 'felt' 'final' 'find' 'fine'\n",
      " 'first' 'flew' 'fli' 'flight' 'flown' 'follow' 'food' 'forc' 'form'\n",
      " 'forward' 'found' 'free' 'frequent' 'friendli' 'front' 'full' 'futur'\n",
      " 'gate' 'gatwick' 'gave' 'gener' 'get' 'give' 'given' 'glass' 'go' 'good'\n",
      " 'got' 'great' 'ground' 'group' 'half' 'hand' 'handl' 'happen' 'happi'\n",
      " 'hard' 'haul' 'help' 'high' 'hold' 'holiday' 'home' 'hope' 'horribl'\n",
      " 'hot' 'hotel' 'hour' 'howev' 'hr' 'huge' 'husband' 'i' 'ife' 'improv'\n",
      " 'includ' 'inflight' 'inform' 'instead' 'issu' 'it' 'johannesburg'\n",
      " 'journey' 'keep' 'kept' 'kind' 'know' 'lack' 'ladi' 'land' 'larg' 'last'\n",
      " 'late' 'later' 'least' 'leav' 'left' 'leg' 'legroom' 'less' 'let' 'level'\n",
      " 'lhr' 'light' 'like' 'limit' 'line' 'littl' 'long' 'longer' 'look' 'lost'\n",
      " 'lot' 'loung' 'love' 'low' 'made' 'main' 'make' 'manag' 'mani' 'may'\n",
      " 'meal' 'mean' 'meant' 'member' 'menu' 'messag' 'middl' 'might' 'min'\n",
      " 'minut' 'miss' 'money' 'month' 'morn' 'move' 'movi' 'much' 'must' 'name'\n",
      " 'narrow' 'need' 'never' 'new' 'next' 'nice' 'night' 'non' 'normal' 'noth'\n",
      " 'notic' 'number' 'offer' 'ok' 'old' 'onboard' 'one' 'onlin' 'onto' 'open'\n",
      " 'oper' 'option' 'order' 'origin' 'outbound' 'overal' 'overnight' 'paid'\n",
      " 'part' 'pass' 'passeng' 'past' 'pay' 'peopl' 'person' 'phone' 'pick'\n",
      " 'place' 'plan' 'plane' 'pleasant' 'plenti' 'plu' 'pm' 'point' 'polit'\n",
      " 'poor' 'posit' 'possibl' 'pre' 'premium' 'pretti' 'previou' 'price'\n",
      " 'prior' 'prioriti' 'problem' 'process' 'product' 'profession' 'promis'\n",
      " 'provid' 'purchas' 'put' 'qualiti' 'queue' 'quick' 'quickli' 'quit'\n",
      " 'rather' 'reach' 'realli' 'reason' 'rebook' 'receiv' 'recent' 'reclin'\n",
      " 'recommend' 'refund' 'refus' 'remain' 'repres' 'request' 'requir'\n",
      " 'reserv' 'respons' 'rest' 'result' 'return' 'review' 'right' 'room'\n",
      " 'rout' 'row' 'rude' 'run' 'said' 'sandwich' 'sat' 'say' 'schedul'\n",
      " 'screen' 'seat' 'second' 'secur' 'see' 'seem' 'select' 'sent' 'serv'\n",
      " 'servic' 'sever' 'short' 'show' 'simpli' 'sinc' 'singapor' 'sit' 'situat'\n",
      " 'sleep' 'slow' 'small' 'smooth' 'snack' 'someon' 'someth' 'space' 'speak'\n",
      " 'spent' 'staff' 'stand' 'standard' 'start' 'state' 'stay' 'still' 'stop'\n",
      " 'storag' 'suit' 'support' 'suppos' 'sure' 'surpris' 'system' 'take'\n",
      " 'taken' 'talk' 'tea' 'team' 'tell' 'termin' 'terribl' 'th' 'thank'\n",
      " 'thing' 'think' 'though' 'thought' 'three' 'throughout' 'ticket' 'time'\n",
      " 'tini' 'today' 'togeth' 'toilet' 'told' 'took' 'top' 'total' 'touch'\n",
      " 'train' 'transfer' 'travel' 'tray' 'treat' 'tri' 'trip' 'turn' 'tv' 'two'\n",
      " 'uk' 'unabl' 'uncomfort' 'understand' 'unfortun' 'updat' 'upgrad' 'us'\n",
      " 'use' 'usual' 'via' 'voucher' 'wait' 'want' 'wast' 'water' 'way' 'websit'\n",
      " 'week' 'welcom' 'well' 'went' 'whole' 'wife' 'wifi' 'window' 'wine'\n",
      " 'within' 'without' 'wonder' 'work' 'world' 'wors' 'worst' 'worth' 'would'\n",
      " 'wrong' 'year' 'yet' '£' '’' '’m' '’t' '’v' '”']\n"
     ]
    }
   ],
   "source": [
    "# the vectorizer object will be used to transform text to vector form\n",
    "vectorizer = CountVectorizer(max_df=0.9, min_df=25, token_pattern='\\w+|\\$[\\d\\.]+|\\S+')\n",
    "\n",
    "# apply transformation\n",
    "tf = vectorizer.fit_transform(df['reviews']).toarray()\n",
    "\n",
    "# tf_feature_names tells us what word each column in the matric represents\n",
    "tf_feature_names = vectorizer.get_feature_names_out()\n",
    "\n",
    "print(tf.shape)\n",
    "print(tf_feature_names)"
   ]
  },
  {
   "cell_type": "code",
   "execution_count": 35,
   "metadata": {},
   "outputs": [
    {
     "data": {
      "text/html": [
       "<style>#sk-container-id-1 {color: black;}#sk-container-id-1 pre{padding: 0;}#sk-container-id-1 div.sk-toggleable {background-color: white;}#sk-container-id-1 label.sk-toggleable__label {cursor: pointer;display: block;width: 100%;margin-bottom: 0;padding: 0.3em;box-sizing: border-box;text-align: center;}#sk-container-id-1 label.sk-toggleable__label-arrow:before {content: \"▸\";float: left;margin-right: 0.25em;color: #696969;}#sk-container-id-1 label.sk-toggleable__label-arrow:hover:before {color: black;}#sk-container-id-1 div.sk-estimator:hover label.sk-toggleable__label-arrow:before {color: black;}#sk-container-id-1 div.sk-toggleable__content {max-height: 0;max-width: 0;overflow: hidden;text-align: left;background-color: #f0f8ff;}#sk-container-id-1 div.sk-toggleable__content pre {margin: 0.2em;color: black;border-radius: 0.25em;background-color: #f0f8ff;}#sk-container-id-1 input.sk-toggleable__control:checked~div.sk-toggleable__content {max-height: 200px;max-width: 100%;overflow: auto;}#sk-container-id-1 input.sk-toggleable__control:checked~label.sk-toggleable__label-arrow:before {content: \"▾\";}#sk-container-id-1 div.sk-estimator input.sk-toggleable__control:checked~label.sk-toggleable__label {background-color: #d4ebff;}#sk-container-id-1 div.sk-label input.sk-toggleable__control:checked~label.sk-toggleable__label {background-color: #d4ebff;}#sk-container-id-1 input.sk-hidden--visually {border: 0;clip: rect(1px 1px 1px 1px);clip: rect(1px, 1px, 1px, 1px);height: 1px;margin: -1px;overflow: hidden;padding: 0;position: absolute;width: 1px;}#sk-container-id-1 div.sk-estimator {font-family: monospace;background-color: #f0f8ff;border: 1px dotted black;border-radius: 0.25em;box-sizing: border-box;margin-bottom: 0.5em;}#sk-container-id-1 div.sk-estimator:hover {background-color: #d4ebff;}#sk-container-id-1 div.sk-parallel-item::after {content: \"\";width: 100%;border-bottom: 1px solid gray;flex-grow: 1;}#sk-container-id-1 div.sk-label:hover label.sk-toggleable__label {background-color: #d4ebff;}#sk-container-id-1 div.sk-serial::before {content: \"\";position: absolute;border-left: 1px solid gray;box-sizing: border-box;top: 0;bottom: 0;left: 50%;z-index: 0;}#sk-container-id-1 div.sk-serial {display: flex;flex-direction: column;align-items: center;background-color: white;padding-right: 0.2em;padding-left: 0.2em;position: relative;}#sk-container-id-1 div.sk-item {position: relative;z-index: 1;}#sk-container-id-1 div.sk-parallel {display: flex;align-items: stretch;justify-content: center;background-color: white;position: relative;}#sk-container-id-1 div.sk-item::before, #sk-container-id-1 div.sk-parallel-item::before {content: \"\";position: absolute;border-left: 1px solid gray;box-sizing: border-box;top: 0;bottom: 0;left: 50%;z-index: -1;}#sk-container-id-1 div.sk-parallel-item {display: flex;flex-direction: column;z-index: 1;position: relative;background-color: white;}#sk-container-id-1 div.sk-parallel-item:first-child::after {align-self: flex-end;width: 50%;}#sk-container-id-1 div.sk-parallel-item:last-child::after {align-self: flex-start;width: 50%;}#sk-container-id-1 div.sk-parallel-item:only-child::after {width: 0;}#sk-container-id-1 div.sk-dashed-wrapped {border: 1px dashed gray;margin: 0 0.4em 0.5em 0.4em;box-sizing: border-box;padding-bottom: 0.4em;background-color: white;}#sk-container-id-1 div.sk-label label {font-family: monospace;font-weight: bold;display: inline-block;line-height: 1.2em;}#sk-container-id-1 div.sk-label-container {text-align: center;}#sk-container-id-1 div.sk-container {/* jupyter's `normalize.less` sets `[hidden] { display: none; }` but bootstrap.min.css set `[hidden] { display: none !important; }` so we also need the `!important` here to be able to override the default hidden behavior on the sphinx rendered scikit-learn.org. See: https://github.com/scikit-learn/scikit-learn/issues/21755 */display: inline-block !important;position: relative;}#sk-container-id-1 div.sk-text-repr-fallback {display: none;}</style><div id=\"sk-container-id-1\" class=\"sk-top-container\"><div class=\"sk-text-repr-fallback\"><pre>LatentDirichletAllocation(random_state=0)</pre><b>In a Jupyter environment, please rerun this cell to show the HTML representation or trust the notebook. <br />On GitHub, the HTML representation is unable to render, please try loading this page with nbviewer.org.</b></div><div class=\"sk-container\" hidden><div class=\"sk-item\"><div class=\"sk-estimator sk-toggleable\"><input class=\"sk-toggleable__control sk-hidden--visually\" id=\"sk-estimator-id-1\" type=\"checkbox\" checked><label for=\"sk-estimator-id-1\" class=\"sk-toggleable__label sk-toggleable__label-arrow\">LatentDirichletAllocation</label><div class=\"sk-toggleable__content\"><pre>LatentDirichletAllocation(random_state=0)</pre></div></div></div></div></div>"
      ],
      "text/plain": [
       "LatentDirichletAllocation(random_state=0)"
      ]
     },
     "execution_count": 35,
     "metadata": {},
     "output_type": "execute_result"
    }
   ],
   "source": [
    "number_of_topics = 10\n",
    "\n",
    "model = LatentDirichletAllocation(n_components=number_of_topics, random_state=0)\n",
    "model.fit(tf)"
   ]
  },
  {
   "cell_type": "code",
   "execution_count": 36,
   "metadata": {},
   "outputs": [],
   "source": [
    "def display_topics(model, feature_names, no_top_words):\n",
    "    topic_dict = {}\n",
    "    for topic_idx, topic in enumerate(model.components_):\n",
    "        topic_dict[\"Topic %d words\" % (topic_idx)]= ['{}'.format(feature_names[i])\n",
    "                        for i in topic.argsort()[:-no_top_words - 1:-1]]\n",
    "        topic_dict[\"Topic %d weights\" % (topic_idx)]= ['{:.1f}'.format(topic[i])\n",
    "                        for i in topic.argsort()[:-no_top_words - 1:-1]]\n",
    "    return pd.DataFrame(topic_dict)"
   ]
  },
  {
   "cell_type": "code",
   "execution_count": 37,
   "metadata": {},
   "outputs": [
    {
     "data": {
      "text/html": [
       "<div>\n",
       "<style scoped>\n",
       "    .dataframe tbody tr th:only-of-type {\n",
       "        vertical-align: middle;\n",
       "    }\n",
       "\n",
       "    .dataframe tbody tr th {\n",
       "        vertical-align: top;\n",
       "    }\n",
       "\n",
       "    .dataframe thead th {\n",
       "        text-align: right;\n",
       "    }\n",
       "</style>\n",
       "<table border=\"1\" class=\"dataframe\">\n",
       "  <thead>\n",
       "    <tr style=\"text-align: right;\">\n",
       "      <th></th>\n",
       "      <th>Topic 0 words</th>\n",
       "      <th>Topic 0 weights</th>\n",
       "      <th>Topic 1 words</th>\n",
       "      <th>Topic 1 weights</th>\n",
       "      <th>Topic 2 words</th>\n",
       "      <th>Topic 2 weights</th>\n",
       "      <th>Topic 3 words</th>\n",
       "      <th>Topic 3 weights</th>\n",
       "      <th>Topic 4 words</th>\n",
       "      <th>Topic 4 weights</th>\n",
       "      <th>Topic 5 words</th>\n",
       "      <th>Topic 5 weights</th>\n",
       "      <th>Topic 6 words</th>\n",
       "      <th>Topic 6 weights</th>\n",
       "      <th>Topic 7 words</th>\n",
       "      <th>Topic 7 weights</th>\n",
       "      <th>Topic 8 words</th>\n",
       "      <th>Topic 8 weights</th>\n",
       "      <th>Topic 9 words</th>\n",
       "      <th>Topic 9 weights</th>\n",
       "    </tr>\n",
       "  </thead>\n",
       "  <tbody>\n",
       "    <tr>\n",
       "      <th>0</th>\n",
       "      <td>seat</td>\n",
       "      <td>369.2</td>\n",
       "      <td>’t</td>\n",
       "      <td>213.3</td>\n",
       "      <td>seat</td>\n",
       "      <td>225.5</td>\n",
       "      <td>cancel</td>\n",
       "      <td>253.4</td>\n",
       "      <td>hour</td>\n",
       "      <td>228.9</td>\n",
       "      <td>servic</td>\n",
       "      <td>124.6</td>\n",
       "      <td>ba</td>\n",
       "      <td>76.8</td>\n",
       "      <td>seat</td>\n",
       "      <td>295.2</td>\n",
       "      <td>check</td>\n",
       "      <td>188.3</td>\n",
       "      <td>thank</td>\n",
       "      <td>34.0</td>\n",
       "    </tr>\n",
       "    <tr>\n",
       "      <th>1</th>\n",
       "      <td>good</td>\n",
       "      <td>318.2</td>\n",
       "      <td>ba</td>\n",
       "      <td>123.7</td>\n",
       "      <td>ba</td>\n",
       "      <td>130.1</td>\n",
       "      <td>ba</td>\n",
       "      <td>233.7</td>\n",
       "      <td>day</td>\n",
       "      <td>186.3</td>\n",
       "      <td>staff</td>\n",
       "      <td>93.3</td>\n",
       "      <td>board</td>\n",
       "      <td>63.9</td>\n",
       "      <td>economi</td>\n",
       "      <td>192.2</td>\n",
       "      <td>ba</td>\n",
       "      <td>55.8</td>\n",
       "      <td>board</td>\n",
       "      <td>27.4</td>\n",
       "    </tr>\n",
       "    <tr>\n",
       "      <th>2</th>\n",
       "      <td>class</td>\n",
       "      <td>299.1</td>\n",
       "      <td>’</td>\n",
       "      <td>98.5</td>\n",
       "      <td>airlin</td>\n",
       "      <td>82.0</td>\n",
       "      <td>book</td>\n",
       "      <td>213.5</td>\n",
       "      <td>ba</td>\n",
       "      <td>184.5</td>\n",
       "      <td>meal</td>\n",
       "      <td>88.1</td>\n",
       "      <td>crew</td>\n",
       "      <td>60.9</td>\n",
       "      <td>premium</td>\n",
       "      <td>120.2</td>\n",
       "      <td>desk</td>\n",
       "      <td>51.8</td>\n",
       "      <td>ladi</td>\n",
       "      <td>27.4</td>\n",
       "    </tr>\n",
       "    <tr>\n",
       "      <th>3</th>\n",
       "      <td>busi</td>\n",
       "      <td>271.2</td>\n",
       "      <td>i</td>\n",
       "      <td>76.6</td>\n",
       "      <td>pay</td>\n",
       "      <td>73.9</td>\n",
       "      <td>refund</td>\n",
       "      <td>193.5</td>\n",
       "      <td>us</td>\n",
       "      <td>181.1</td>\n",
       "      <td>board</td>\n",
       "      <td>73.1</td>\n",
       "      <td>passeng</td>\n",
       "      <td>60.8</td>\n",
       "      <td>servic</td>\n",
       "      <td>119.4</td>\n",
       "      <td>hour</td>\n",
       "      <td>51.4</td>\n",
       "      <td>check</td>\n",
       "      <td>24.2</td>\n",
       "    </tr>\n",
       "    <tr>\n",
       "      <th>4</th>\n",
       "      <td>ba</td>\n",
       "      <td>263.8</td>\n",
       "      <td>fli</td>\n",
       "      <td>69.4</td>\n",
       "      <td>book</td>\n",
       "      <td>60.6</td>\n",
       "      <td>custom</td>\n",
       "      <td>148.1</td>\n",
       "      <td>get</td>\n",
       "      <td>137.0</td>\n",
       "      <td>serv</td>\n",
       "      <td>69.5</td>\n",
       "      <td>minut</td>\n",
       "      <td>55.5</td>\n",
       "      <td>crew</td>\n",
       "      <td>107.9</td>\n",
       "      <td>bag</td>\n",
       "      <td>42.7</td>\n",
       "      <td>husband</td>\n",
       "      <td>23.4</td>\n",
       "    </tr>\n",
       "    <tr>\n",
       "      <th>5</th>\n",
       "      <td>food</td>\n",
       "      <td>238.2</td>\n",
       "      <td>airlin</td>\n",
       "      <td>60.3</td>\n",
       "      <td>chang</td>\n",
       "      <td>55.0</td>\n",
       "      <td>call</td>\n",
       "      <td>132.5</td>\n",
       "      <td>told</td>\n",
       "      <td>132.5</td>\n",
       "      <td>drink</td>\n",
       "      <td>68.6</td>\n",
       "      <td>seat</td>\n",
       "      <td>53.9</td>\n",
       "      <td>food</td>\n",
       "      <td>104.5</td>\n",
       "      <td>baggag</td>\n",
       "      <td>41.8</td>\n",
       "      <td>singapor</td>\n",
       "      <td>23.3</td>\n",
       "    </tr>\n",
       "    <tr>\n",
       "      <th>6</th>\n",
       "      <td>time</td>\n",
       "      <td>198.6</td>\n",
       "      <td>one</td>\n",
       "      <td>58.8</td>\n",
       "      <td>charg</td>\n",
       "      <td>52.8</td>\n",
       "      <td>voucher</td>\n",
       "      <td>110.5</td>\n",
       "      <td>delay</td>\n",
       "      <td>130.3</td>\n",
       "      <td>crew</td>\n",
       "      <td>68.3</td>\n",
       "      <td>us</td>\n",
       "      <td>52.1</td>\n",
       "      <td>cabin</td>\n",
       "      <td>99.0</td>\n",
       "      <td>gate</td>\n",
       "      <td>41.7</td>\n",
       "      <td>custom</td>\n",
       "      <td>22.1</td>\n",
       "    </tr>\n",
       "    <tr>\n",
       "      <th>7</th>\n",
       "      <td>servic</td>\n",
       "      <td>188.5</td>\n",
       "      <td>year</td>\n",
       "      <td>55.7</td>\n",
       "      <td>staff</td>\n",
       "      <td>49.3</td>\n",
       "      <td>travel</td>\n",
       "      <td>110.3</td>\n",
       "      <td>call</td>\n",
       "      <td>127.1</td>\n",
       "      <td>offer</td>\n",
       "      <td>63.1</td>\n",
       "      <td>plane</td>\n",
       "      <td>48.8</td>\n",
       "      <td>leg</td>\n",
       "      <td>79.4</td>\n",
       "      <td>passeng</td>\n",
       "      <td>33.9</td>\n",
       "      <td>servic</td>\n",
       "      <td>21.5</td>\n",
       "    </tr>\n",
       "    <tr>\n",
       "      <th>8</th>\n",
       "      <td>crew</td>\n",
       "      <td>184.4</td>\n",
       "      <td>didn</td>\n",
       "      <td>55.3</td>\n",
       "      <td>paid</td>\n",
       "      <td>46.5</td>\n",
       "      <td>ticket</td>\n",
       "      <td>107.7</td>\n",
       "      <td>custom</td>\n",
       "      <td>119.8</td>\n",
       "      <td>cabin</td>\n",
       "      <td>62.2</td>\n",
       "      <td>could</td>\n",
       "      <td>47.0</td>\n",
       "      <td>time</td>\n",
       "      <td>73.2</td>\n",
       "      <td>queue</td>\n",
       "      <td>33.4</td>\n",
       "      <td>back</td>\n",
       "      <td>20.2</td>\n",
       "    </tr>\n",
       "    <tr>\n",
       "      <th>9</th>\n",
       "      <td>cabin</td>\n",
       "      <td>177.4</td>\n",
       "      <td>experi</td>\n",
       "      <td>54.3</td>\n",
       "      <td>busi</td>\n",
       "      <td>39.4</td>\n",
       "      <td>servic</td>\n",
       "      <td>92.9</td>\n",
       "      <td>time</td>\n",
       "      <td>113.8</td>\n",
       "      <td>late</td>\n",
       "      <td>57.1</td>\n",
       "      <td>announc</td>\n",
       "      <td>44.2</td>\n",
       "      <td>fli</td>\n",
       "      <td>70.3</td>\n",
       "      <td>us</td>\n",
       "      <td>33.1</td>\n",
       "      <td>help</td>\n",
       "      <td>19.7</td>\n",
       "    </tr>\n",
       "    <tr>\n",
       "      <th>10</th>\n",
       "      <td>club</td>\n",
       "      <td>161.3</td>\n",
       "      <td>don</td>\n",
       "      <td>53.7</td>\n",
       "      <td>ticket</td>\n",
       "      <td>38.8</td>\n",
       "      <td>email</td>\n",
       "      <td>86.0</td>\n",
       "      <td>arriv</td>\n",
       "      <td>109.8</td>\n",
       "      <td>hour</td>\n",
       "      <td>54.2</td>\n",
       "      <td>cabin</td>\n",
       "      <td>43.7</td>\n",
       "      <td>great</td>\n",
       "      <td>67.7</td>\n",
       "      <td>would</td>\n",
       "      <td>32.1</td>\n",
       "      <td>arriv</td>\n",
       "      <td>18.3</td>\n",
       "    </tr>\n",
       "    <tr>\n",
       "      <th>11</th>\n",
       "      <td>loung</td>\n",
       "      <td>160.3</td>\n",
       "      <td>it</td>\n",
       "      <td>53.5</td>\n",
       "      <td>class</td>\n",
       "      <td>36.3</td>\n",
       "      <td>would</td>\n",
       "      <td>83.1</td>\n",
       "      <td>servic</td>\n",
       "      <td>109.7</td>\n",
       "      <td>ask</td>\n",
       "      <td>54.1</td>\n",
       "      <td>time</td>\n",
       "      <td>41.3</td>\n",
       "      <td>comfort</td>\n",
       "      <td>66.0</td>\n",
       "      <td>one</td>\n",
       "      <td>31.2</td>\n",
       "      <td>class</td>\n",
       "      <td>18.1</td>\n",
       "    </tr>\n",
       "    <tr>\n",
       "      <th>12</th>\n",
       "      <td>board</td>\n",
       "      <td>147.4</td>\n",
       "      <td>time</td>\n",
       "      <td>51.2</td>\n",
       "      <td>row</td>\n",
       "      <td>34.7</td>\n",
       "      <td>week</td>\n",
       "      <td>77.3</td>\n",
       "      <td>connect</td>\n",
       "      <td>104.9</td>\n",
       "      <td>delay</td>\n",
       "      <td>53.3</td>\n",
       "      <td>one</td>\n",
       "      <td>38.8</td>\n",
       "      <td>hour</td>\n",
       "      <td>65.4</td>\n",
       "      <td>never</td>\n",
       "      <td>30.9</td>\n",
       "      <td>busi</td>\n",
       "      <td>17.6</td>\n",
       "    </tr>\n",
       "    <tr>\n",
       "      <th>13</th>\n",
       "      <td>first</td>\n",
       "      <td>113.3</td>\n",
       "      <td>servic</td>\n",
       "      <td>50.6</td>\n",
       "      <td>extra</td>\n",
       "      <td>33.1</td>\n",
       "      <td>flight</td>\n",
       "      <td>73.1</td>\n",
       "      <td>miss</td>\n",
       "      <td>98.8</td>\n",
       "      <td>ba</td>\n",
       "      <td>52.1</td>\n",
       "      <td>go</td>\n",
       "      <td>37.2</td>\n",
       "      <td>airlin</td>\n",
       "      <td>65.3</td>\n",
       "      <td>food</td>\n",
       "      <td>30.1</td>\n",
       "      <td>travel</td>\n",
       "      <td>16.9</td>\n",
       "    </tr>\n",
       "    <tr>\n",
       "      <th>14</th>\n",
       "      <td>new</td>\n",
       "      <td>101.2</td>\n",
       "      <td>realli</td>\n",
       "      <td>49.8</td>\n",
       "      <td>termin</td>\n",
       "      <td>32.8</td>\n",
       "      <td>time</td>\n",
       "      <td>71.3</td>\n",
       "      <td>staff</td>\n",
       "      <td>97.6</td>\n",
       "      <td>passeng</td>\n",
       "      <td>48.5</td>\n",
       "      <td>hour</td>\n",
       "      <td>35.6</td>\n",
       "      <td>meal</td>\n",
       "      <td>61.4</td>\n",
       "      <td>arriv</td>\n",
       "      <td>30.0</td>\n",
       "      <td>got</td>\n",
       "      <td>14.7</td>\n",
       "    </tr>\n",
       "    <tr>\n",
       "      <th>15</th>\n",
       "      <td>world</td>\n",
       "      <td>97.3</td>\n",
       "      <td>use</td>\n",
       "      <td>47.8</td>\n",
       "      <td>differ</td>\n",
       "      <td>32.2</td>\n",
       "      <td>get</td>\n",
       "      <td>70.3</td>\n",
       "      <td>back</td>\n",
       "      <td>96.2</td>\n",
       "      <td>get</td>\n",
       "      <td>42.9</td>\n",
       "      <td>help</td>\n",
       "      <td>32.1</td>\n",
       "      <td>drink</td>\n",
       "      <td>60.9</td>\n",
       "      <td>staff</td>\n",
       "      <td>29.1</td>\n",
       "      <td>gate</td>\n",
       "      <td>14.2</td>\n",
       "    </tr>\n",
       "    <tr>\n",
       "      <th>16</th>\n",
       "      <td>one</td>\n",
       "      <td>96.3</td>\n",
       "      <td>like</td>\n",
       "      <td>45.4</td>\n",
       "      <td>choos</td>\n",
       "      <td>27.7</td>\n",
       "      <td>phone</td>\n",
       "      <td>69.3</td>\n",
       "      <td>airlin</td>\n",
       "      <td>94.2</td>\n",
       "      <td>class</td>\n",
       "      <td>42.2</td>\n",
       "      <td>gave</td>\n",
       "      <td>31.2</td>\n",
       "      <td>ba</td>\n",
       "      <td>58.7</td>\n",
       "      <td>told</td>\n",
       "      <td>28.5</td>\n",
       "      <td>repres</td>\n",
       "      <td>12.7</td>\n",
       "    </tr>\n",
       "    <tr>\n",
       "      <th>17</th>\n",
       "      <td>drink</td>\n",
       "      <td>95.5</td>\n",
       "      <td>go</td>\n",
       "      <td>45.0</td>\n",
       "      <td>one</td>\n",
       "      <td>25.1</td>\n",
       "      <td>return</td>\n",
       "      <td>67.3</td>\n",
       "      <td>help</td>\n",
       "      <td>92.0</td>\n",
       "      <td>minut</td>\n",
       "      <td>41.9</td>\n",
       "      <td>wait</td>\n",
       "      <td>31.1</td>\n",
       "      <td>would</td>\n",
       "      <td>56.0</td>\n",
       "      <td>plane</td>\n",
       "      <td>28.5</td>\n",
       "      <td>need</td>\n",
       "      <td>12.4</td>\n",
       "    </tr>\n",
       "    <tr>\n",
       "      <th>18</th>\n",
       "      <td>arriv</td>\n",
       "      <td>92.8</td>\n",
       "      <td>’v</td>\n",
       "      <td>44.2</td>\n",
       "      <td>reserv</td>\n",
       "      <td>23.7</td>\n",
       "      <td>airlin</td>\n",
       "      <td>65.9</td>\n",
       "      <td>wait</td>\n",
       "      <td>89.9</td>\n",
       "      <td>water</td>\n",
       "      <td>40.7</td>\n",
       "      <td>said</td>\n",
       "      <td>28.9</td>\n",
       "      <td>staff</td>\n",
       "      <td>55.2</td>\n",
       "      <td>time</td>\n",
       "      <td>28.4</td>\n",
       "      <td>crew</td>\n",
       "      <td>11.6</td>\n",
       "    </tr>\n",
       "    <tr>\n",
       "      <th>19</th>\n",
       "      <td>experi</td>\n",
       "      <td>80.9</td>\n",
       "      <td>entertain</td>\n",
       "      <td>39.7</td>\n",
       "      <td>hand</td>\n",
       "      <td>23.6</td>\n",
       "      <td>receiv</td>\n",
       "      <td>64.3</td>\n",
       "      <td>would</td>\n",
       "      <td>85.9</td>\n",
       "      <td>coffe</td>\n",
       "      <td>36.5</td>\n",
       "      <td>peopl</td>\n",
       "      <td>28.8</td>\n",
       "      <td>friendli</td>\n",
       "      <td>53.8</td>\n",
       "      <td>travel</td>\n",
       "      <td>28.3</td>\n",
       "      <td>care</td>\n",
       "      <td>11.3</td>\n",
       "    </tr>\n",
       "  </tbody>\n",
       "</table>\n",
       "</div>"
      ],
      "text/plain": [
       "   Topic 0 words Topic 0 weights Topic 1 words Topic 1 weights Topic 2 words   \n",
       "0           seat           369.2            ’t           213.3          seat  \\\n",
       "1           good           318.2            ba           123.7            ba   \n",
       "2          class           299.1             ’            98.5        airlin   \n",
       "3           busi           271.2             i            76.6           pay   \n",
       "4             ba           263.8           fli            69.4          book   \n",
       "5           food           238.2        airlin            60.3         chang   \n",
       "6           time           198.6           one            58.8         charg   \n",
       "7         servic           188.5          year            55.7         staff   \n",
       "8           crew           184.4          didn            55.3          paid   \n",
       "9          cabin           177.4        experi            54.3          busi   \n",
       "10          club           161.3           don            53.7        ticket   \n",
       "11         loung           160.3            it            53.5         class   \n",
       "12         board           147.4          time            51.2           row   \n",
       "13         first           113.3        servic            50.6         extra   \n",
       "14           new           101.2        realli            49.8        termin   \n",
       "15         world            97.3           use            47.8        differ   \n",
       "16           one            96.3          like            45.4         choos   \n",
       "17         drink            95.5            go            45.0           one   \n",
       "18         arriv            92.8            ’v            44.2        reserv   \n",
       "19        experi            80.9     entertain            39.7          hand   \n",
       "\n",
       "   Topic 2 weights Topic 3 words Topic 3 weights Topic 4 words   \n",
       "0            225.5        cancel           253.4          hour  \\\n",
       "1            130.1            ba           233.7           day   \n",
       "2             82.0          book           213.5            ba   \n",
       "3             73.9        refund           193.5            us   \n",
       "4             60.6        custom           148.1           get   \n",
       "5             55.0          call           132.5          told   \n",
       "6             52.8       voucher           110.5         delay   \n",
       "7             49.3        travel           110.3          call   \n",
       "8             46.5        ticket           107.7        custom   \n",
       "9             39.4        servic            92.9          time   \n",
       "10            38.8         email            86.0         arriv   \n",
       "11            36.3         would            83.1        servic   \n",
       "12            34.7          week            77.3       connect   \n",
       "13            33.1        flight            73.1          miss   \n",
       "14            32.8          time            71.3         staff   \n",
       "15            32.2           get            70.3          back   \n",
       "16            27.7         phone            69.3        airlin   \n",
       "17            25.1        return            67.3          help   \n",
       "18            23.7        airlin            65.9          wait   \n",
       "19            23.6        receiv            64.3         would   \n",
       "\n",
       "   Topic 4 weights Topic 5 words Topic 5 weights Topic 6 words   \n",
       "0            228.9        servic           124.6            ba  \\\n",
       "1            186.3         staff            93.3         board   \n",
       "2            184.5          meal            88.1          crew   \n",
       "3            181.1         board            73.1       passeng   \n",
       "4            137.0          serv            69.5         minut   \n",
       "5            132.5         drink            68.6          seat   \n",
       "6            130.3          crew            68.3            us   \n",
       "7            127.1         offer            63.1         plane   \n",
       "8            119.8         cabin            62.2         could   \n",
       "9            113.8          late            57.1       announc   \n",
       "10           109.8          hour            54.2         cabin   \n",
       "11           109.7           ask            54.1          time   \n",
       "12           104.9         delay            53.3           one   \n",
       "13            98.8            ba            52.1            go   \n",
       "14            97.6       passeng            48.5          hour   \n",
       "15            96.2           get            42.9          help   \n",
       "16            94.2         class            42.2          gave   \n",
       "17            92.0         minut            41.9          wait   \n",
       "18            89.9         water            40.7          said   \n",
       "19            85.9         coffe            36.5         peopl   \n",
       "\n",
       "   Topic 6 weights Topic 7 words Topic 7 weights Topic 8 words   \n",
       "0             76.8          seat           295.2         check  \\\n",
       "1             63.9       economi           192.2            ba   \n",
       "2             60.9       premium           120.2          desk   \n",
       "3             60.8        servic           119.4          hour   \n",
       "4             55.5          crew           107.9           bag   \n",
       "5             53.9          food           104.5        baggag   \n",
       "6             52.1         cabin            99.0          gate   \n",
       "7             48.8           leg            79.4       passeng   \n",
       "8             47.0          time            73.2         queue   \n",
       "9             44.2           fli            70.3            us   \n",
       "10            43.7         great            67.7         would   \n",
       "11            41.3       comfort            66.0           one   \n",
       "12            38.8          hour            65.4         never   \n",
       "13            37.2        airlin            65.3          food   \n",
       "14            35.6          meal            61.4         arriv   \n",
       "15            32.1         drink            60.9         staff   \n",
       "16            31.2            ba            58.7          told   \n",
       "17            31.1         would            56.0         plane   \n",
       "18            28.9         staff            55.2          time   \n",
       "19            28.8      friendli            53.8        travel   \n",
       "\n",
       "   Topic 8 weights Topic 9 words Topic 9 weights  \n",
       "0            188.3         thank            34.0  \n",
       "1             55.8         board            27.4  \n",
       "2             51.8          ladi            27.4  \n",
       "3             51.4         check            24.2  \n",
       "4             42.7       husband            23.4  \n",
       "5             41.8      singapor            23.3  \n",
       "6             41.7        custom            22.1  \n",
       "7             33.9        servic            21.5  \n",
       "8             33.4          back            20.2  \n",
       "9             33.1          help            19.7  \n",
       "10            32.1         arriv            18.3  \n",
       "11            31.2         class            18.1  \n",
       "12            30.9          busi            17.6  \n",
       "13            30.1        travel            16.9  \n",
       "14            30.0           got            14.7  \n",
       "15            29.1          gate            14.2  \n",
       "16            28.5        repres            12.7  \n",
       "17            28.5          need            12.4  \n",
       "18            28.4          crew            11.6  \n",
       "19            28.3          care            11.3  "
      ]
     },
     "execution_count": 37,
     "metadata": {},
     "output_type": "execute_result"
    }
   ],
   "source": [
    "no_top_words = 20\n",
    "display_topics(model, tf_feature_names, no_top_words)"
   ]
  },
  {
   "cell_type": "code",
   "execution_count": 12,
   "metadata": {},
   "outputs": [],
   "source": [
    "df.to_csv(data_path+\"\\BA_reviews_cleaned.csv\")"
   ]
  },
  {
   "cell_type": "markdown",
   "metadata": {},
   "source": [
    "### Sentiment Analysis "
   ]
  },
  {
   "cell_type": "markdown",
   "metadata": {},
   "source": [
    "#### 1. Text Blob"
   ]
  },
  {
   "cell_type": "code",
   "execution_count": 6,
   "metadata": {},
   "outputs": [],
   "source": [
    "def get_polarity(text):\n",
    "    return TextBlob(text).sentiment.polarity\n",
    "\n",
    "def get_subjectivity(text):\n",
    "    return TextBlob(text).sentiment.subjectivity"
   ]
  },
  {
   "cell_type": "code",
   "execution_count": 7,
   "metadata": {},
   "outputs": [],
   "source": [
    "df_cleaned = df.copy()\n",
    "\n",
    "df_cleaned['polarity'] = df['reviews'].apply(lambda x: get_polarity(x))\n",
    "# df_cleaned['subjectivity'] = df['reviews'].apply(lambda x: get_subjectivity(x))"
   ]
  },
  {
   "cell_type": "code",
   "execution_count": 8,
   "metadata": {},
   "outputs": [],
   "source": [
    "positive = len(df_cleaned[df_cleaned['polarity']<0])\n",
    "negative = len(df_cleaned[df_cleaned['polarity']>0])\n",
    "neutral = len(df_cleaned[df_cleaned['polarity']==0])"
   ]
  },
  {
   "cell_type": "code",
   "execution_count": 9,
   "metadata": {},
   "outputs": [
    {
     "name": "stdout",
     "output_type": "stream",
     "text": [
      "positive 318, negative: 638, neutral: 44\n"
     ]
    }
   ],
   "source": [
    "print('positive {}, negative: {}, neutral: {}'.format(positive, negative, neutral))"
   ]
  },
  {
   "cell_type": "code",
   "execution_count": 12,
   "metadata": {},
   "outputs": [
    {
     "data": {
      "image/png": "[encoded data removed]",
      "text/plain": [
       "<Figure size 640x480 with 1 Axes>"
      ]
     },
     "metadata": {},
     "output_type": "display_data"
    }
   ],
   "source": [
    "plt.bar(['Positive', 'Neutral', 'Negative'], [positive, neutral, negative])\n",
    "plt.xlabel('Categories')\n",
    "plt.ylabel('Statistics')\n",
    "plt.title('Statistics of Polarity scores')\n",
    "plt.show()"
   ]
  },
  {
   "cell_type": "code",
   "execution_count": 42,
   "metadata": {},
   "outputs": [
    {
     "data": {
      "text/plain": [
       "Text(0.5, 1.0, 'Standard Deviation of Polarity scores')"
      ]
     },
     "execution_count": 42,
     "metadata": {},
     "output_type": "execute_result"
    },
    {
     "data": {
      "image/png": "[encoded data removed]",
      "text/plain": [
       "<Figure size 640x480 with 1 Axes>"
      ]
     },
     "metadata": {},
     "output_type": "display_data"
    }
   ],
   "source": [
    "df_cleaned['polarity'].plot(kind='hist', edgecolor='black')\n",
    "plt.xlabel('Sentiment scores')\n",
    "plt.ylabel('Num of reviews')\n",
    "plt.title('Standard Deviation of Polarity scores')"
   ]
  },
  {
   "cell_type": "code",
   "execution_count": 28,
   "metadata": {},
   "outputs": [
    {
     "name": "stdout",
     "output_type": "stream",
     "text": [
      "Interval [-1.0, -0.8]: 2\n",
      "Interval [-0.8, -0.6]: 1\n",
      "Interval [-0.6, -0.4]: 12\n",
      "Interval [-0.4, -0.2]: 55\n",
      "Interval [-0.2, 0.0]: 249\n",
      "Interval [0.0, 0.2]: 415\n",
      "Interval [0.2, 0.4]: 192\n",
      "Interval [0.4, 0.6]: 65\n",
      "Interval [0.6, 0.8]: 10\n",
      "Interval [0.8, 1.0]: 2\n",
      "Interval [1.0, 1.2]: 2\n"
     ]
    }
   ],
   "source": [
    "intervals = [-1.0, -0.8, -0.6, -0.4, -0.2, 0.0, 0.2, 0.4, 0.6, 0.8, 1.0]\n",
    "counts = {interval: 0 for interval in intervals}\n",
    "\n",
    "# Count reviews in each interval\n",
    "for interval in intervals:\n",
    "    if interval == 1.0:\n",
    "        reviews_in_interval = len(df_cleaned[df_cleaned['polarity'] == interval])\n",
    "    else:\n",
    "        reviews_in_interval = len(df_cleaned[(df_cleaned['polarity'] >= interval) & (df_cleaned['polarity'] < interval + 0.2)])\n",
    "    \n",
    "    counts[interval] = reviews_in_interval\n",
    "\n",
    "# Print the counts in each interval\n",
    "for interval, count in counts.items():\n",
    "    print(f\"Interval [{interval:.1f}, {interval + 0.2:.1f}]: {count}\")\n"
   ]
  },
  {
   "cell_type": "markdown",
   "metadata": {},
   "source": [
    "#### 2. Transformers"
   ]
  },
  {
   "cell_type": "code",
   "execution_count": 13,
   "metadata": {},
   "outputs": [
    {
     "name": "stderr",
     "output_type": "stream",
     "text": [
      "No model was supplied, defaulted to distilbert-base-uncased-finetuned-sst-2-english and revision af0f99b (https://huggingface.co/distilbert-base-uncased-finetuned-sst-2-english).\n",
      "Using a pipeline without specifying a model name and revision in production is not recommended.\n"
     ]
    }
   ],
   "source": [
    "sentiment_pipeline = pipeline(\"sentiment-analysis\")\n",
    "\n",
    "def get_sentiment(text):\n",
    "    return sentiment_pipeline(text)\n"
   ]
  },
  {
   "cell_type": "code",
   "execution_count": 15,
   "metadata": {},
   "outputs": [
    {
     "data": {
      "text/html": [
       "<div>\n",
       "<style scoped>\n",
       "    .dataframe tbody tr th:only-of-type {\n",
       "        vertical-align: middle;\n",
       "    }\n",
       "\n",
       "    .dataframe tbody tr th {\n",
       "        vertical-align: top;\n",
       "    }\n",
       "\n",
       "    .dataframe thead th {\n",
       "        text-align: right;\n",
       "    }\n",
       "</style>\n",
       "<table border=\"1\" class=\"dataframe\">\n",
       "  <thead>\n",
       "    <tr style=\"text-align: right;\">\n",
       "      <th></th>\n",
       "      <th>Unnamed: 0</th>\n",
       "      <th>reviews</th>\n",
       "      <th>polarity</th>\n",
       "      <th>sentiment</th>\n",
       "      <th>score</th>\n",
       "    </tr>\n",
       "  </thead>\n",
       "  <tbody>\n",
       "    <tr>\n",
       "      <th>0</th>\n",
       "      <td>0</td>\n",
       "      <td>daughter deni board busi class flight madrid h...</td>\n",
       "      <td>-0.008152</td>\n",
       "      <td>NEGATIVE</td>\n",
       "      <td>0.997678</td>\n",
       "    </tr>\n",
       "    <tr>\n",
       "      <th>1</th>\n",
       "      <td>1</td>\n",
       "      <td>despit board usual free lhr group   call board...</td>\n",
       "      <td>0.278333</td>\n",
       "      <td>POSITIVE</td>\n",
       "      <td>0.719707</td>\n",
       "    </tr>\n",
       "    <tr>\n",
       "      <th>2</th>\n",
       "      <td>2</td>\n",
       "      <td>flight cancel crew th septemb  peak holiday pe...</td>\n",
       "      <td>-0.366667</td>\n",
       "      <td>NEGATIVE</td>\n",
       "      <td>0.999272</td>\n",
       "    </tr>\n",
       "    <tr>\n",
       "      <th>3</th>\n",
       "      <td>3</td>\n",
       "      <td>worst servic ever baggag arriv time flight del...</td>\n",
       "      <td>-0.850000</td>\n",
       "      <td>NEGATIVE</td>\n",
       "      <td>0.991511</td>\n",
       "    </tr>\n",
       "    <tr>\n",
       "      <th>4</th>\n",
       "      <td>4</td>\n",
       "      <td>flight book holiday delay   hour wifi avail ...</td>\n",
       "      <td>0.000000</td>\n",
       "      <td>NEGATIVE</td>\n",
       "      <td>0.991923</td>\n",
       "    </tr>\n",
       "    <tr>\n",
       "      <th>...</th>\n",
       "      <td>...</td>\n",
       "      <td>...</td>\n",
       "      <td>...</td>\n",
       "      <td>...</td>\n",
       "      <td>...</td>\n",
       "    </tr>\n",
       "    <tr>\n",
       "      <th>995</th>\n",
       "      <td>995</td>\n",
       "      <td>london lyon flight h  delay flight durat   gro...</td>\n",
       "      <td>-0.265000</td>\n",
       "      <td>NEGATIVE</td>\n",
       "      <td>0.999136</td>\n",
       "    </tr>\n",
       "    <tr>\n",
       "      <th>996</th>\n",
       "      <td>996</td>\n",
       "      <td>london boston seat next custom need extra seat...</td>\n",
       "      <td>0.400000</td>\n",
       "      <td>POSITIVE</td>\n",
       "      <td>0.985772</td>\n",
       "    </tr>\n",
       "    <tr>\n",
       "      <th>997</th>\n",
       "      <td>997</td>\n",
       "      <td>stockholm london standard configur short haul ...</td>\n",
       "      <td>0.304167</td>\n",
       "      <td>NEGATIVE</td>\n",
       "      <td>0.956295</td>\n",
       "    </tr>\n",
       "    <tr>\n",
       "      <th>998</th>\n",
       "      <td>998</td>\n",
       "      <td>amsterdam london arriv  minut late three delay...</td>\n",
       "      <td>0.142857</td>\n",
       "      <td>NEGATIVE</td>\n",
       "      <td>0.944436</td>\n",
       "    </tr>\n",
       "    <tr>\n",
       "      <th>999</th>\n",
       "      <td>999</td>\n",
       "      <td>bueno air london flew overnight friday th nove...</td>\n",
       "      <td>-0.337500</td>\n",
       "      <td>NEGATIVE</td>\n",
       "      <td>0.991944</td>\n",
       "    </tr>\n",
       "  </tbody>\n",
       "</table>\n",
       "<p>1000 rows × 5 columns</p>\n",
       "</div>"
      ],
      "text/plain": [
       "     Unnamed: 0                                            reviews  polarity   \n",
       "0             0  daughter deni board busi class flight madrid h... -0.008152  \\\n",
       "1             1  despit board usual free lhr group   call board...  0.278333   \n",
       "2             2  flight cancel crew th septemb  peak holiday pe... -0.366667   \n",
       "3             3  worst servic ever baggag arriv time flight del... -0.850000   \n",
       "4             4    flight book holiday delay   hour wifi avail ...  0.000000   \n",
       "..          ...                                                ...       ...   \n",
       "995         995  london lyon flight h  delay flight durat   gro... -0.265000   \n",
       "996         996  london boston seat next custom need extra seat...  0.400000   \n",
       "997         997  stockholm london standard configur short haul ...  0.304167   \n",
       "998         998  amsterdam london arriv  minut late three delay...  0.142857   \n",
       "999         999  bueno air london flew overnight friday th nove... -0.337500   \n",
       "\n",
       "    sentiment     score  \n",
       "0    NEGATIVE  0.997678  \n",
       "1    POSITIVE  0.719707  \n",
       "2    NEGATIVE  0.999272  \n",
       "3    NEGATIVE  0.991511  \n",
       "4    NEGATIVE  0.991923  \n",
       "..        ...       ...  \n",
       "995  NEGATIVE  0.999136  \n",
       "996  POSITIVE  0.985772  \n",
       "997  NEGATIVE  0.956295  \n",
       "998  NEGATIVE  0.944436  \n",
       "999  NEGATIVE  0.991944  \n",
       "\n",
       "[1000 rows x 5 columns]"
      ]
     },
     "execution_count": 15,
     "metadata": {},
     "output_type": "execute_result"
    }
   ],
   "source": [
    "df_cleaned['sentiment'] = df['reviews'].apply(lambda x: get_sentiment(x)[0]['label'])\n",
    "df_cleaned['score'] = df['reviews'].apply(lambda x: get_sentiment(x)[0]['score'])\n",
    "df_cleaned"
   ]
  },
  {
   "cell_type": "code",
   "execution_count": 16,
   "metadata": {},
   "outputs": [
    {
     "name": "stdout",
     "output_type": "stream",
     "text": [
      "positive 116, negative: 884\n"
     ]
    }
   ],
   "source": [
    "positive = len(df_cleaned[df_cleaned['sentiment']=='POSITIVE'])\n",
    "negative = len(df_cleaned[df_cleaned['sentiment']=='NEGATIVE'])\n",
    "print('positive {}, negative: {}'.format(positive, negative))"
   ]
  },
  {
   "cell_type": "code",
   "execution_count": 17,
   "metadata": {},
   "outputs": [
    {
     "data": {
      "image/png": "[encoded data removed]",
      "text/plain": [
       "<Figure size 640x480 with 1 Axes>"
      ]
     },
     "metadata": {},
     "output_type": "display_data"
    }
   ],
   "source": [
    "plt.bar(['Positive', 'Negative'], [positive, negative])\n",
    "plt.xlabel('Categories')\n",
    "plt.ylabel('Statistics')\n",
    "plt.title('Statistics of Sentiment scores')\n",
    "plt.show()"
   ]
  },
  {
   "cell_type": "code",
   "execution_count": 18,
   "metadata": {},
   "outputs": [
    {
     "data": {
      "text/plain": [
       "Text(0.5, 1.0, 'Standard Deviation of Sentiment scores')"
      ]
     },
     "execution_count": 18,
     "metadata": {},
     "output_type": "execute_result"
    },
    {
     "data": {
      "image/png": "[encoded data removed]",
      "text/plain": [
       "<Figure size 640x480 with 1 Axes>"
      ]
     },
     "metadata": {},
     "output_type": "display_data"
    }
   ],
   "source": [
    "df_cleaned['score'].plot(kind='hist', edgecolor='black')\n",
    "plt.xlabel('Sentiment scores')\n",
    "plt.ylabel('Num of reviews')\n",
    "plt.title('Standard Deviation of Sentiment scores')"
   ]
  },
  {
   "cell_type": "markdown",
   "metadata": {},
   "source": [
    "### Word Cloud"
   ]
  },
  {
   "cell_type": "code",
   "execution_count": 47,
   "metadata": {},
   "outputs": [
    {
     "data": {
      "text/html": [
       "<div>\n",
       "<style scoped>\n",
       "    .dataframe tbody tr th:only-of-type {\n",
       "        vertical-align: middle;\n",
       "    }\n",
       "\n",
       "    .dataframe tbody tr th {\n",
       "        vertical-align: top;\n",
       "    }\n",
       "\n",
       "    .dataframe thead th {\n",
       "        text-align: right;\n",
       "    }\n",
       "</style>\n",
       "<table border=\"1\" class=\"dataframe\">\n",
       "  <thead>\n",
       "    <tr style=\"text-align: right;\">\n",
       "      <th></th>\n",
       "      <th>Unnamed: 0</th>\n",
       "      <th>reviews</th>\n",
       "    </tr>\n",
       "  </thead>\n",
       "  <tbody>\n",
       "    <tr>\n",
       "      <th>0</th>\n",
       "      <td>0</td>\n",
       "      <td>despit board usual free lhr group   call board...</td>\n",
       "    </tr>\n",
       "    <tr>\n",
       "      <th>1</th>\n",
       "      <td>1</td>\n",
       "      <td>cancel crew th septemb  peak holiday period ba...</td>\n",
       "    </tr>\n",
       "    <tr>\n",
       "      <th>2</th>\n",
       "      <td>2</td>\n",
       "      <td>worst ever baggag arriv time flight delay neve...</td>\n",
       "    </tr>\n",
       "  </tbody>\n",
       "</table>\n",
       "</div>"
      ],
      "text/plain": [
       "   Unnamed: 0                                            reviews\n",
       "0           0  despit board usual free lhr group   call board...\n",
       "1           1  cancel crew th septemb  peak holiday period ba...\n",
       "2           2  worst ever baggag arriv time flight delay neve..."
      ]
     },
     "execution_count": 47,
     "metadata": {},
     "output_type": "execute_result"
    }
   ],
   "source": [
    "df = pd.read_csv(data_path+\"\\BA_reviews.csv\")\n",
    "\n",
    "df = df[df['reviews'].str.contains('|', na=False)]\n",
    "df['reviews'] = df['reviews'].str.split('|').str[1].str.strip()\n",
    "\n",
    "# Reset the index\n",
    "df.reset_index(drop=True, inplace=True)\n",
    "\n",
    "my_stopwords = nltk.corpus.stopwords.words('english')\n",
    "query_words=['british', 'airways', 'service', 'flight', 'airport', 'luggage', 'heathrow', 'bag', 'london', 'custom', 'ba', 'seat', 'aircraft', 'cabin']\n",
    "my_stopwords.extend(query_words)\n",
    "\n",
    "word_rooter = nltk.stem.snowball.PorterStemmer(ignore_stopwords=False).stem\n",
    "my_punctuation = '!\"$%&\\'()*+,-./:;<=>?[\\\\]^_`{|}~•@'\n",
    "\n",
    "def clean_text(text, bigrams=False):\n",
    "    text = text.lower() # lower case\n",
    "    text = re.sub('['+my_punctuation + ']+', ' ', text) # strip punctuation\n",
    "    text = re.sub('\\s+', ' ', text) #remove double spacing\n",
    "    text = re.sub('([0-9]+)', '', text) # remove numbers\n",
    "    text_token_list = [word for word in text.split(' ')\n",
    "                            if word not in my_stopwords] # remove stopwords\n",
    "\n",
    "    text_token_list = [word_rooter(word) if '#' not in word else word for word in text_token_list] # apply word rooter\n",
    "    if bigrams:\n",
    "        text_token_list = text_token_list+[text_token_list[i]+'_'+text_token_list[i+1]\n",
    "                                            for i in range(len(text_token_list)-1)]\n",
    "    text = ' '.join(text_token_list)\n",
    "    return text\n",
    "\n",
    "# Apply the updated preprocessing function\n",
    "df['reviews'] = df['reviews'].apply(clean_text)\n",
    "\n",
    "df.head(3)"
   ]
  },
  {
   "cell_type": "code",
   "execution_count": 48,
   "metadata": {},
   "outputs": [
    {
     "data": {
      "image/png": "[encoded data removed]",
      "text/plain": [
       "<Figure size 640x480 with 1 Axes>"
      ]
     },
     "metadata": {},
     "output_type": "display_data"
    }
   ],
   "source": [
    "text = \" \".join(review for review in df.reviews)\n",
    "\n",
    "# Create and generate a word cloud image:\n",
    "wordcloud = WordCloud(stopwords=my_stopwords).generate(text)\n",
    "\n",
    "# Display the generated image:\n",
    "plt.imshow(wordcloud, interpolation='bilinear')\n",
    "plt.axis(\"off\")\n",
    "plt.show()"
   ]
  },
  {
   "cell_type": "markdown",
   "metadata": {},
   "source": [
    "### Word Cloud 2"
   ]
  },
  {
   "cell_type": "code",
   "execution_count": 7,
   "metadata": {},
   "outputs": [],
   "source": [
    "df = pd.read_csv(data_path+\"\\BA_reviews.csv\")"
   ]
  },
  {
   "cell_type": "code",
   "execution_count": 2,
   "metadata": {},
   "outputs": [],
   "source": [
    "import seaborn as sns\n",
    "from plotly import graph_objs as go\n",
    "import plotly.express as px\n",
    "import plotly.figure_factory as ff\n",
    "from collections import Counter\n",
    "from PIL import Image\n",
    "import random\n"
   ]
  },
  {
   "cell_type": "code",
   "execution_count": 8,
   "metadata": {},
   "outputs": [
    {
     "data": {
      "text/html": [
       "<div>\n",
       "<style scoped>\n",
       "    .dataframe tbody tr th:only-of-type {\n",
       "        vertical-align: middle;\n",
       "    }\n",
       "\n",
       "    .dataframe tbody tr th {\n",
       "        vertical-align: top;\n",
       "    }\n",
       "\n",
       "    .dataframe thead th {\n",
       "        text-align: right;\n",
       "    }\n",
       "</style>\n",
       "<table border=\"1\" class=\"dataframe\">\n",
       "  <thead>\n",
       "    <tr style=\"text-align: right;\">\n",
       "      <th></th>\n",
       "      <th>Unnamed: 0</th>\n",
       "      <th>reviews</th>\n",
       "    </tr>\n",
       "  </thead>\n",
       "  <tbody>\n",
       "    <tr>\n",
       "      <th>0</th>\n",
       "      <td>0</td>\n",
       "      <td>Despite boarding being the usual free for all ...</td>\n",
       "    </tr>\n",
       "    <tr>\n",
       "      <th>1</th>\n",
       "      <td>1</td>\n",
       "      <td>Flight cancelled, no crew! 9th September 2023,...</td>\n",
       "    </tr>\n",
       "    <tr>\n",
       "      <th>2</th>\n",
       "      <td>2</td>\n",
       "      <td>The worst service ever, my baggage did not arr...</td>\n",
       "    </tr>\n",
       "    <tr>\n",
       "      <th>3</th>\n",
       "      <td>3</td>\n",
       "      <td>4/4 flights we booked this holiday were delaye...</td>\n",
       "    </tr>\n",
       "  </tbody>\n",
       "</table>\n",
       "</div>"
      ],
      "text/plain": [
       "   Unnamed: 0                                            reviews\n",
       "0           0  Despite boarding being the usual free for all ...\n",
       "1           1  Flight cancelled, no crew! 9th September 2023,...\n",
       "2           2  The worst service ever, my baggage did not arr...\n",
       "3           3  4/4 flights we booked this holiday were delaye..."
      ]
     },
     "execution_count": 8,
     "metadata": {},
     "output_type": "execute_result"
    }
   ],
   "source": [
    "# Remove leading unwanted text\n",
    "\n",
    "df = df[df['reviews'].str.contains('|', na=False)]\n",
    "df['reviews'] = df['reviews'].str.split('|').str[1].str.strip()\n",
    "\n",
    "# Reset the index\n",
    "df.reset_index(drop=True, inplace=True)\n",
    "df.iloc[:4]"
   ]
  },
  {
   "cell_type": "code",
   "execution_count": 9,
   "metadata": {},
   "outputs": [],
   "source": [
    "def remove_spaces(text):\n",
    "    text=text.strip()\n",
    "    text=text.split()\n",
    "    return ' '.join(text)"
   ]
  },
  {
   "cell_type": "code",
   "execution_count": 10,
   "metadata": {},
   "outputs": [
    {
     "name": "stderr",
     "output_type": "stream",
     "text": [
      "[nltk_data] Downloading package punkt to\n",
      "[nltk_data]     C:\\Users\\sonal\\AppData\\Roaming\\nltk_data...\n",
      "[nltk_data]   Package punkt is already up-to-date!\n",
      "[nltk_data] Downloading package wordnet to\n",
      "[nltk_data]     C:\\Users\\sonal\\AppData\\Roaming\\nltk_data...\n",
      "[nltk_data]   Package wordnet is already up-to-date!\n"
     ]
    }
   ],
   "source": [
    "nltk.download('punkt')\n",
    "nltk.download('wordnet')\n",
    "from nltk.tokenize import word_tokenize\n",
    "from nltk.stem.wordnet import WordNetLemmatizer\n",
    "from nltk.stem.lancaster import LancasterStemmer\n",
    "\n",
    "nltk.LancasterStemmer\n",
    "ls = LancasterStemmer()\n",
    "lem = WordNetLemmatizer()\n",
    "def lexicon_normalization(text):\n",
    "    words = word_tokenize(text) \n",
    "    \n",
    "    # 1- Stemming\n",
    "    words_stem = [ls.stem(w) for w in words]\n",
    "    \n",
    "    # 2- Lemmatization\n",
    "    words_lem = [lem.lemmatize(w) for w in words_stem]\n",
    "    return words_lem"
   ]
  },
  {
   "cell_type": "code",
   "execution_count": 11,
   "metadata": {},
   "outputs": [],
   "source": [
    "import string\n",
    "\n",
    "def clean_text(text):\n",
    "\n",
    "    '''Make text lowercase, remove text in square brackets,remove links,remove punctuation\n",
    "    and remove words containing numbers.'''\n",
    "    text = str(text).lower()\n",
    "    text = re.sub('\\[.*?\\]', '', text)\n",
    "    text = re.sub('https?://\\S+|www\\.\\S+', '', text)\n",
    "    text = re.sub('<.*?>+', '', text)\n",
    "    text = re.sub('[%s]' % re.escape(string.punctuation), '', text)\n",
    "    text = re.sub('\\n', '', text)\n",
    "    text = re.sub('\\w*\\d\\w*', '', text)\n",
    "    text = re.sub('\\'','', text)\n",
    "    \n",
    "    return text"
   ]
  },
  {
   "cell_type": "code",
   "execution_count": 12,
   "metadata": {},
   "outputs": [],
   "source": [
    "def remove_stopword(text):\n",
    "    stop_words = stopwords.words('english')\n",
    "    query_words=['british', 'airways','ba', 'flight', 'trip','airport', 'airline','luggage', 'heathrow', 'bag', 'london', 'custom', 'seats', 'airplane', 'aircraft', 'food']\n",
    "    stop_words.extend(query_words)\n",
    "\n",
    "    stopwords_dict = Counter(stop_words)\n",
    "    text = ' '.join([word for word in text.split() if word not in stopwords_dict])\n",
    "    return text"
   ]
  },
  {
   "cell_type": "code",
   "execution_count": 13,
   "metadata": {},
   "outputs": [],
   "source": [
    "def tokenise(text):\n",
    "    words = word_tokenize(text) \n",
    "    return words"
   ]
  },
  {
   "cell_type": "code",
   "execution_count": 14,
   "metadata": {},
   "outputs": [
    {
     "data": {
      "text/html": [
       "<div>\n",
       "<style scoped>\n",
       "    .dataframe tbody tr th:only-of-type {\n",
       "        vertical-align: middle;\n",
       "    }\n",
       "\n",
       "    .dataframe tbody tr th {\n",
       "        vertical-align: top;\n",
       "    }\n",
       "\n",
       "    .dataframe thead th {\n",
       "        text-align: right;\n",
       "    }\n",
       "</style>\n",
       "<table border=\"1\" class=\"dataframe\">\n",
       "  <thead>\n",
       "    <tr style=\"text-align: right;\">\n",
       "      <th></th>\n",
       "      <th>Unnamed: 0</th>\n",
       "      <th>reviews</th>\n",
       "    </tr>\n",
       "  </thead>\n",
       "  <tbody>\n",
       "    <tr>\n",
       "      <th>0</th>\n",
       "      <td>0</td>\n",
       "      <td>[despit, board, u, fre, lhr, group, cal, board...</td>\n",
       "    </tr>\n",
       "    <tr>\n",
       "      <th>1</th>\n",
       "      <td>1</td>\n",
       "      <td>[cancel, crew, septemb, peak, holiday, period,...</td>\n",
       "    </tr>\n",
       "    <tr>\n",
       "      <th>2</th>\n",
       "      <td>2</td>\n",
       "      <td>[worst, serv, ev, bag, ar, tim, flight, delay,...</td>\n",
       "    </tr>\n",
       "    <tr>\n",
       "      <th>3</th>\n",
       "      <td>3</td>\n",
       "      <td>[flight, book, holiday, delay, hour, wif, avai...</td>\n",
       "    </tr>\n",
       "    <tr>\n",
       "      <th>4</th>\n",
       "      <td>4</td>\n",
       "      <td>[tot, lack, respect, custom, book, fly, frankf...</td>\n",
       "    </tr>\n",
       "  </tbody>\n",
       "</table>\n",
       "</div>"
      ],
      "text/plain": [
       "   Unnamed: 0                                            reviews\n",
       "0           0  [despit, board, u, fre, lhr, group, cal, board...\n",
       "1           1  [cancel, crew, septemb, peak, holiday, period,...\n",
       "2           2  [worst, serv, ev, bag, ar, tim, flight, delay,...\n",
       "3           3  [flight, book, holiday, delay, hour, wif, avai...\n",
       "4           4  [tot, lack, respect, custom, book, fly, frankf..."
      ]
     },
     "execution_count": 14,
     "metadata": {},
     "output_type": "execute_result"
    }
   ],
   "source": [
    "# Cleaning data\n",
    "\n",
    "df['reviews'] = df['reviews'].map(lambda x: re.sub(r'\\W+', ' ', x))\n",
    "df['reviews'] = df['reviews'].replace(r'\\W+', ' ', regex=True)\n",
    "df['reviews'] = df['reviews'].apply(lambda x: clean_text(x))\n",
    "df['reviews'] = df['reviews'].apply(lambda x: remove_stopword(x))\n",
    "df['reviews'] = df['reviews'].apply(lambda x: lexicon_normalization(x))\n",
    "df.head()"
   ]
  },
  {
   "cell_type": "code",
   "execution_count": 15,
   "metadata": {},
   "outputs": [
    {
     "data": {
      "text/html": [
       "<style type=\"text/css\">\n",
       "#T_e5c18_row0_col1 {\n",
       "  background-color: #08306b;\n",
       "  color: #f1f1f1;\n",
       "}\n",
       "#T_e5c18_row1_col1 {\n",
       "  background-color: #4090c5;\n",
       "  color: #f1f1f1;\n",
       "}\n",
       "#T_e5c18_row2_col1 {\n",
       "  background-color: #74b3d8;\n",
       "  color: #000000;\n",
       "}\n",
       "#T_e5c18_row3_col1 {\n",
       "  background-color: #82bbdb;\n",
       "  color: #000000;\n",
       "}\n",
       "#T_e5c18_row4_col1 {\n",
       "  background-color: #9dcae1;\n",
       "  color: #000000;\n",
       "}\n",
       "#T_e5c18_row5_col1 {\n",
       "  background-color: #cee0f2;\n",
       "  color: #000000;\n",
       "}\n",
       "#T_e5c18_row6_col1 {\n",
       "  background-color: #d0e2f2;\n",
       "  color: #000000;\n",
       "}\n",
       "#T_e5c18_row7_col1 {\n",
       "  background-color: #d4e4f4;\n",
       "  color: #000000;\n",
       "}\n",
       "#T_e5c18_row8_col1 {\n",
       "  background-color: #d6e5f4;\n",
       "  color: #000000;\n",
       "}\n",
       "#T_e5c18_row9_col1 {\n",
       "  background-color: #d9e8f5;\n",
       "  color: #000000;\n",
       "}\n",
       "#T_e5c18_row10_col1 {\n",
       "  background-color: #dce9f6;\n",
       "  color: #000000;\n",
       "}\n",
       "#T_e5c18_row11_col1, #T_e5c18_row12_col1 {\n",
       "  background-color: #ddeaf7;\n",
       "  color: #000000;\n",
       "}\n",
       "#T_e5c18_row13_col1 {\n",
       "  background-color: #e0ecf8;\n",
       "  color: #000000;\n",
       "}\n",
       "#T_e5c18_row14_col1 {\n",
       "  background-color: #e6f0f9;\n",
       "  color: #000000;\n",
       "}\n",
       "#T_e5c18_row15_col1 {\n",
       "  background-color: #e7f0fa;\n",
       "  color: #000000;\n",
       "}\n",
       "#T_e5c18_row16_col1 {\n",
       "  background-color: #e7f1fa;\n",
       "  color: #000000;\n",
       "}\n",
       "#T_e5c18_row17_col1 {\n",
       "  background-color: #edf4fc;\n",
       "  color: #000000;\n",
       "}\n",
       "#T_e5c18_row18_col1 {\n",
       "  background-color: #f4f9fe;\n",
       "  color: #000000;\n",
       "}\n",
       "#T_e5c18_row19_col1 {\n",
       "  background-color: #f7fbff;\n",
       "  color: #000000;\n",
       "}\n",
       "</style>\n",
       "<table id=\"T_e5c18\">\n",
       "  <thead>\n",
       "    <tr>\n",
       "      <th class=\"blank level0\" >&nbsp;</th>\n",
       "      <th id=\"T_e5c18_level0_col0\" class=\"col_heading level0 col0\" >Common_words</th>\n",
       "      <th id=\"T_e5c18_level0_col1\" class=\"col_heading level0 col1\" >count</th>\n",
       "    </tr>\n",
       "  </thead>\n",
       "  <tbody>\n",
       "    <tr>\n",
       "      <th id=\"T_e5c18_level0_row0\" class=\"row_heading level0 row0\" >0</th>\n",
       "      <td id=\"T_e5c18_row0_col0\" class=\"data row0 col0\" >serv</td>\n",
       "      <td id=\"T_e5c18_row0_col1\" class=\"data row0 col1\" >904</td>\n",
       "    </tr>\n",
       "    <tr>\n",
       "      <th id=\"T_e5c18_level0_row1\" class=\"row_heading level0 row1\" >1</th>\n",
       "      <td id=\"T_e5c18_row1_col0\" class=\"data row1 col0\" >u</td>\n",
       "      <td id=\"T_e5c18_row1_col1\" class=\"data row1 col1\" >696</td>\n",
       "    </tr>\n",
       "    <tr>\n",
       "      <th id=\"T_e5c18_level0_row2\" class=\"row_heading level0 row2\" >2</th>\n",
       "      <td id=\"T_e5c18_row2_col0\" class=\"data row2 col0\" >tim</td>\n",
       "      <td id=\"T_e5c18_row2_col1\" class=\"data row2 col1\" >611</td>\n",
       "    </tr>\n",
       "    <tr>\n",
       "      <th id=\"T_e5c18_level0_row3\" class=\"row_heading level0 row3\" >3</th>\n",
       "      <td id=\"T_e5c18_row3_col0\" class=\"data row3 col0\" >seat</td>\n",
       "      <td id=\"T_e5c18_row3_col1\" class=\"data row3 col1\" >591</td>\n",
       "    </tr>\n",
       "    <tr>\n",
       "      <th id=\"T_e5c18_level0_row4\" class=\"row_heading level0 row4\" >4</th>\n",
       "      <td id=\"T_e5c18_row4_col0\" class=\"data row4 col0\" >hour</td>\n",
       "      <td id=\"T_e5c18_row4_col1\" class=\"data row4 col1\" >553</td>\n",
       "    </tr>\n",
       "    <tr>\n",
       "      <th id=\"T_e5c18_level0_row5\" class=\"row_heading level0 row5\" >5</th>\n",
       "      <td id=\"T_e5c18_row5_col0\" class=\"data row5 col0\" >crew</td>\n",
       "      <td id=\"T_e5c18_row5_col1\" class=\"data row5 col1\" >458</td>\n",
       "    </tr>\n",
       "    <tr>\n",
       "      <th id=\"T_e5c18_level0_row6\" class=\"row_heading level0 row6\" >6</th>\n",
       "      <td id=\"T_e5c18_row6_col0\" class=\"data row6 col0\" >check</td>\n",
       "      <td id=\"T_e5c18_row6_col1\" class=\"data row6 col1\" >451</td>\n",
       "    </tr>\n",
       "    <tr>\n",
       "      <th id=\"T_e5c18_level0_row7\" class=\"row_heading level0 row7\" >7</th>\n",
       "      <td id=\"T_e5c18_row7_col0\" class=\"data row7 col0\" >get</td>\n",
       "      <td id=\"T_e5c18_row7_col1\" class=\"data row7 col1\" >442</td>\n",
       "    </tr>\n",
       "    <tr>\n",
       "      <th id=\"T_e5c18_level0_row8\" class=\"row_heading level0 row8\" >8</th>\n",
       "      <td id=\"T_e5c18_row8_col0\" class=\"data row8 col0\" >on</td>\n",
       "      <td id=\"T_e5c18_row8_col1\" class=\"data row8 col1\" >437</td>\n",
       "    </tr>\n",
       "    <tr>\n",
       "      <th id=\"T_e5c18_level0_row9\" class=\"row_heading level0 row9\" >9</th>\n",
       "      <td id=\"T_e5c18_row9_col0\" class=\"data row9 col0\" >class</td>\n",
       "      <td id=\"T_e5c18_row9_col1\" class=\"data row9 col1\" >425</td>\n",
       "    </tr>\n",
       "    <tr>\n",
       "      <th id=\"T_e5c18_level0_row10\" class=\"row_heading level0 row10\" >10</th>\n",
       "      <td id=\"T_e5c18_row10_col0\" class=\"data row10 col0\" >board</td>\n",
       "      <td id=\"T_e5c18_row10_col1\" class=\"data row10 col1\" >419</td>\n",
       "    </tr>\n",
       "    <tr>\n",
       "      <th id=\"T_e5c18_level0_row11\" class=\"row_heading level0 row11\" >11</th>\n",
       "      <td id=\"T_e5c18_row11_col0\" class=\"data row11 col0\" >staff</td>\n",
       "      <td id=\"T_e5c18_row11_col1\" class=\"data row11 col1\" >415</td>\n",
       "    </tr>\n",
       "    <tr>\n",
       "      <th id=\"T_e5c18_level0_row12\" class=\"row_heading level0 row12\" >12</th>\n",
       "      <td id=\"T_e5c18_row12_col0\" class=\"data row12 col0\" >good</td>\n",
       "      <td id=\"T_e5c18_row12_col1\" class=\"data row12 col1\" >414</td>\n",
       "    </tr>\n",
       "    <tr>\n",
       "      <th id=\"T_e5c18_level0_row13\" class=\"row_heading level0 row13\" >13</th>\n",
       "      <td id=\"T_e5c18_row13_col0\" class=\"data row13 col0\" >busy</td>\n",
       "      <td id=\"T_e5c18_row13_col1\" class=\"data row13 col1\" >406</td>\n",
       "    </tr>\n",
       "    <tr>\n",
       "      <th id=\"T_e5c18_level0_row14\" class=\"row_heading level0 row14\" >14</th>\n",
       "      <td id=\"T_e5c18_row14_col0\" class=\"data row14 col0\" >ev</td>\n",
       "      <td id=\"T_e5c18_row14_col1\" class=\"data row14 col1\" >391</td>\n",
       "    </tr>\n",
       "    <tr>\n",
       "      <th id=\"T_e5c18_level0_row15\" class=\"row_heading level0 row15\" >15</th>\n",
       "      <td id=\"T_e5c18_row15_col0\" class=\"data row15 col0\" >book</td>\n",
       "      <td id=\"T_e5c18_row15_col1\" class=\"data row15 col1\" >389</td>\n",
       "    </tr>\n",
       "    <tr>\n",
       "      <th id=\"T_e5c18_level0_row16\" class=\"row_heading level0 row16\" >16</th>\n",
       "      <td id=\"T_e5c18_row16_col0\" class=\"data row16 col0\" >cabin</td>\n",
       "      <td id=\"T_e5c18_row16_col1\" class=\"data row16 col1\" >387</td>\n",
       "    </tr>\n",
       "    <tr>\n",
       "      <th id=\"T_e5c18_level0_row17\" class=\"row_heading level0 row17\" >17</th>\n",
       "      <td id=\"T_e5c18_row17_col0\" class=\"data row17 col0\" >would</td>\n",
       "      <td id=\"T_e5c18_row17_col1\" class=\"data row17 col1\" >370</td>\n",
       "    </tr>\n",
       "    <tr>\n",
       "      <th id=\"T_e5c18_level0_row18\" class=\"row_heading level0 row18\" >18</th>\n",
       "      <td id=\"T_e5c18_row18_col0\" class=\"data row18 col0\" >fly</td>\n",
       "      <td id=\"T_e5c18_row18_col1\" class=\"data row18 col1\" >350</td>\n",
       "    </tr>\n",
       "    <tr>\n",
       "      <th id=\"T_e5c18_level0_row19\" class=\"row_heading level0 row19\" >19</th>\n",
       "      <td id=\"T_e5c18_row19_col0\" class=\"data row19 col0\" >custom</td>\n",
       "      <td id=\"T_e5c18_row19_col1\" class=\"data row19 col1\" >341</td>\n",
       "    </tr>\n",
       "  </tbody>\n",
       "</table>\n"
      ],
      "text/plain": [
       "<pandas.io.formats.style.Styler at 0x275e44ae0d0>"
      ]
     },
     "execution_count": 15,
     "metadata": {},
     "output_type": "execute_result"
    }
   ],
   "source": [
    "top = Counter([item for sublist in df['reviews'] for item in sublist])\n",
    "temp = pd.DataFrame(top.most_common(20))\n",
    "temp.columns = ['Common_words','count']\n",
    "temp.style.background_gradient(cmap='Blues')"
   ]
  },
  {
   "cell_type": "code",
   "execution_count": 16,
   "metadata": {},
   "outputs": [
    {
     "data": {
      "application/vnd.plotly.v1+json": {
       "config": {
        "plotlyServerURL": "https://plot.ly"
       },
       "data": [
        {
         "alignmentgroup": "True",
         "hovertemplate": "Common_words=%{y}<br>count=%{x}<extra></extra>",
         "legendgroup": "serv",
         "marker": {
          "color": "#636efa",
          "pattern": {
           "shape": ""
          }
         },
         "name": "serv",
         "offsetgroup": "serv",
         "orientation": "h",
         "showlegend": true,
         "textposition": "auto",
         "type": "bar",
         "x": [
          904
         ],
         "xaxis": "x",
         "y": [
          "serv"
         ],
         "yaxis": "y"
        },
        {
         "alignmentgroup": "True",
         "hovertemplate": "Common_words=%{y}<br>count=%{x}<extra></extra>",
         "legendgroup": "u",
         "marker": {
          "color": "#EF553B",
          "pattern": {
           "shape": ""
          }
         },
         "name": "u",
         "offsetgroup": "u",
         "orientation": "h",
         "showlegend": true,
         "textposition": "auto",
         "type": "bar",
         "x": [
          696
         ],
         "xaxis": "x",
         "y": [
          "u"
         ],
         "yaxis": "y"
        },
        {
         "alignmentgroup": "True",
         "hovertemplate": "Common_words=%{y}<br>count=%{x}<extra></extra>",
         "legendgroup": "tim",
         "marker": {
          "color": "#00cc96",
          "pattern": {
           "shape": ""
          }
         },
         "name": "tim",
         "offsetgroup": "tim",
         "orientation": "h",
         "showlegend": true,
         "textposition": "auto",
         "type": "bar",
         "x": [
          611
         ],
         "xaxis": "x",
         "y": [
          "tim"
         ],
         "yaxis": "y"
        },
        {
         "alignmentgroup": "True",
         "hovertemplate": "Common_words=%{y}<br>count=%{x}<extra></extra>",
         "legendgroup": "seat",
         "marker": {
          "color": "#ab63fa",
          "pattern": {
           "shape": ""
          }
         },
         "name": "seat",
         "offsetgroup": "seat",
         "orientation": "h",
         "showlegend": true,
         "textposition": "auto",
         "type": "bar",
         "x": [
          591
         ],
         "xaxis": "x",
         "y": [
          "seat"
         ],
         "yaxis": "y"
        },
        {
         "alignmentgroup": "True",
         "hovertemplate": "Common_words=%{y}<br>count=%{x}<extra></extra>",
         "legendgroup": "hour",
         "marker": {
          "color": "#FFA15A",
          "pattern": {
           "shape": ""
          }
         },
         "name": "hour",
         "offsetgroup": "hour",
         "orientation": "h",
         "showlegend": true,
         "textposition": "auto",
         "type": "bar",
         "x": [
          553
         ],
         "xaxis": "x",
         "y": [
          "hour"
         ],
         "yaxis": "y"
        },
        {
         "alignmentgroup": "True",
         "hovertemplate": "Common_words=%{y}<br>count=%{x}<extra></extra>",
         "legendgroup": "crew",
         "marker": {
          "color": "#19d3f3",
          "pattern": {
           "shape": ""
          }
         },
         "name": "crew",
         "offsetgroup": "crew",
         "orientation": "h",
         "showlegend": true,
         "textposition": "auto",
         "type": "bar",
         "x": [
          458
         ],
         "xaxis": "x",
         "y": [
          "crew"
         ],
         "yaxis": "y"
        },
        {
         "alignmentgroup": "True",
         "hovertemplate": "Common_words=%{y}<br>count=%{x}<extra></extra>",
         "legendgroup": "check",
         "marker": {
          "color": "#FF6692",
          "pattern": {
           "shape": ""
          }
         },
         "name": "check",
         "offsetgroup": "check",
         "orientation": "h",
         "showlegend": true,
         "textposition": "auto",
         "type": "bar",
         "x": [
          451
         ],
         "xaxis": "x",
         "y": [
          "check"
         ],
         "yaxis": "y"
        },
        {
         "alignmentgroup": "True",
         "hovertemplate": "Common_words=%{y}<br>count=%{x}<extra></extra>",
         "legendgroup": "get",
         "marker": {
          "color": "#B6E880",
          "pattern": {
           "shape": ""
          }
         },
         "name": "get",
         "offsetgroup": "get",
         "orientation": "h",
         "showlegend": true,
         "textposition": "auto",
         "type": "bar",
         "x": [
          442
         ],
         "xaxis": "x",
         "y": [
          "get"
         ],
         "yaxis": "y"
        },
        {
         "alignmentgroup": "True",
         "hovertemplate": "Common_words=%{y}<br>count=%{x}<extra></extra>",
         "legendgroup": "on",
         "marker": {
          "color": "#FF97FF",
          "pattern": {
           "shape": ""
          }
         },
         "name": "on",
         "offsetgroup": "on",
         "orientation": "h",
         "showlegend": true,
         "textposition": "auto",
         "type": "bar",
         "x": [
          437
         ],
         "xaxis": "x",
         "y": [
          "on"
         ],
         "yaxis": "y"
        },
        {
         "alignmentgroup": "True",
         "hovertemplate": "Common_words=%{y}<br>count=%{x}<extra></extra>",
         "legendgroup": "class",
         "marker": {
          "color": "#FECB52",
          "pattern": {
           "shape": ""
          }
         },
         "name": "class",
         "offsetgroup": "class",
         "orientation": "h",
         "showlegend": true,
         "textposition": "auto",
         "type": "bar",
         "x": [
          425
         ],
         "xaxis": "x",
         "y": [
          "class"
         ],
         "yaxis": "y"
        },
        {
         "alignmentgroup": "True",
         "hovertemplate": "Common_words=%{y}<br>count=%{x}<extra></extra>",
         "legendgroup": "board",
         "marker": {
          "color": "#636efa",
          "pattern": {
           "shape": ""
          }
         },
         "name": "board",
         "offsetgroup": "board",
         "orientation": "h",
         "showlegend": true,
         "textposition": "auto",
         "type": "bar",
         "x": [
          419
         ],
         "xaxis": "x",
         "y": [
          "board"
         ],
         "yaxis": "y"
        },
        {
         "alignmentgroup": "True",
         "hovertemplate": "Common_words=%{y}<br>count=%{x}<extra></extra>",
         "legendgroup": "staff",
         "marker": {
          "color": "#EF553B",
          "pattern": {
           "shape": ""
          }
         },
         "name": "staff",
         "offsetgroup": "staff",
         "orientation": "h",
         "showlegend": true,
         "textposition": "auto",
         "type": "bar",
         "x": [
          415
         ],
         "xaxis": "x",
         "y": [
          "staff"
         ],
         "yaxis": "y"
        },
        {
         "alignmentgroup": "True",
         "hovertemplate": "Common_words=%{y}<br>count=%{x}<extra></extra>",
         "legendgroup": "good",
         "marker": {
          "color": "#00cc96",
          "pattern": {
           "shape": ""
          }
         },
         "name": "good",
         "offsetgroup": "good",
         "orientation": "h",
         "showlegend": true,
         "textposition": "auto",
         "type": "bar",
         "x": [
          414
         ],
         "xaxis": "x",
         "y": [
          "good"
         ],
         "yaxis": "y"
        },
        {
         "alignmentgroup": "True",
         "hovertemplate": "Common_words=%{y}<br>count=%{x}<extra></extra>",
         "legendgroup": "busy",
         "marker": {
          "color": "#ab63fa",
          "pattern": {
           "shape": ""
          }
         },
         "name": "busy",
         "offsetgroup": "busy",
         "orientation": "h",
         "showlegend": true,
         "textposition": "auto",
         "type": "bar",
         "x": [
          406
         ],
         "xaxis": "x",
         "y": [
          "busy"
         ],
         "yaxis": "y"
        },
        {
         "alignmentgroup": "True",
         "hovertemplate": "Common_words=%{y}<br>count=%{x}<extra></extra>",
         "legendgroup": "ev",
         "marker": {
          "color": "#FFA15A",
          "pattern": {
           "shape": ""
          }
         },
         "name": "ev",
         "offsetgroup": "ev",
         "orientation": "h",
         "showlegend": true,
         "textposition": "auto",
         "type": "bar",
         "x": [
          391
         ],
         "xaxis": "x",
         "y": [
          "ev"
         ],
         "yaxis": "y"
        },
        {
         "alignmentgroup": "True",
         "hovertemplate": "Common_words=%{y}<br>count=%{x}<extra></extra>",
         "legendgroup": "book",
         "marker": {
          "color": "#19d3f3",
          "pattern": {
           "shape": ""
          }
         },
         "name": "book",
         "offsetgroup": "book",
         "orientation": "h",
         "showlegend": true,
         "textposition": "auto",
         "type": "bar",
         "x": [
          389
         ],
         "xaxis": "x",
         "y": [
          "book"
         ],
         "yaxis": "y"
        },
        {
         "alignmentgroup": "True",
         "hovertemplate": "Common_words=%{y}<br>count=%{x}<extra></extra>",
         "legendgroup": "cabin",
         "marker": {
          "color": "#FF6692",
          "pattern": {
           "shape": ""
          }
         },
         "name": "cabin",
         "offsetgroup": "cabin",
         "orientation": "h",
         "showlegend": true,
         "textposition": "auto",
         "type": "bar",
         "x": [
          387
         ],
         "xaxis": "x",
         "y": [
          "cabin"
         ],
         "yaxis": "y"
        },
        {
         "alignmentgroup": "True",
         "hovertemplate": "Common_words=%{y}<br>count=%{x}<extra></extra>",
         "legendgroup": "would",
         "marker": {
          "color": "#B6E880",
          "pattern": {
           "shape": ""
          }
         },
         "name": "would",
         "offsetgroup": "would",
         "orientation": "h",
         "showlegend": true,
         "textposition": "auto",
         "type": "bar",
         "x": [
          370
         ],
         "xaxis": "x",
         "y": [
          "would"
         ],
         "yaxis": "y"
        },
        {
         "alignmentgroup": "True",
         "hovertemplate": "Common_words=%{y}<br>count=%{x}<extra></extra>",
         "legendgroup": "fly",
         "marker": {
          "color": "#FF97FF",
          "pattern": {
           "shape": ""
          }
         },
         "name": "fly",
         "offsetgroup": "fly",
         "orientation": "h",
         "showlegend": true,
         "textposition": "auto",
         "type": "bar",
         "x": [
          350
         ],
         "xaxis": "x",
         "y": [
          "fly"
         ],
         "yaxis": "y"
        },
        {
         "alignmentgroup": "True",
         "hovertemplate": "Common_words=%{y}<br>count=%{x}<extra></extra>",
         "legendgroup": "custom",
         "marker": {
          "color": "#FECB52",
          "pattern": {
           "shape": ""
          }
         },
         "name": "custom",
         "offsetgroup": "custom",
         "orientation": "h",
         "showlegend": true,
         "textposition": "auto",
         "type": "bar",
         "x": [
          341
         ],
         "xaxis": "x",
         "y": [
          "custom"
         ],
         "yaxis": "y"
        }
       ],
       "layout": {
        "barmode": "relative",
        "height": 700,
        "legend": {
         "title": {
          "text": "Common_words"
         },
         "tracegroupgap": 0
        },
        "template": {
         "data": {
          "bar": [
           {
            "error_x": {
             "color": "#2a3f5f"
            },
            "error_y": {
             "color": "#2a3f5f"
            },
            "marker": {
             "line": {
              "color": "#E5ECF6",
              "width": 0.5
             },
             "pattern": {
              "fillmode": "overlay",
              "size": 10,
              "solidity": 0.2
             }
            },
            "type": "bar"
           }
          ],
          "barpolar": [
           {
            "marker": {
             "line": {
              "color": "#E5ECF6",
              "width": 0.5
             },
             "pattern": {
              "fillmode": "overlay",
              "size": 10,
              "solidity": 0.2
             }
            },
            "type": "barpolar"
           }
          ],
          "carpet": [
           {
            "aaxis": {
             "endlinecolor": "#2a3f5f",
             "gridcolor": "white",
             "linecolor": "white",
             "minorgridcolor": "white",
             "startlinecolor": "#2a3f5f"
            },
            "baxis": {
             "endlinecolor": "#2a3f5f",
             "gridcolor": "white",
             "linecolor": "white",
             "minorgridcolor": "white",
             "startlinecolor": "#2a3f5f"
            },
            "type": "carpet"
           }
          ],
          "choropleth": [
           {
            "colorbar": {
             "outlinewidth": 0,
             "ticks": ""
            },
            "type": "choropleth"
           }
          ],
          "contour": [
           {
            "colorbar": {
             "outlinewidth": 0,
             "ticks": ""
            },
            "colorscale": [
             [
              0,
              "#0d0887"
             ],
             [
              0.1111111111111111,
              "#46039f"
             ],
             [
              0.2222222222222222,
              "#7201a8"
             ],
             [
              0.3333333333333333,
              "#9c179e"
             ],
             [
              0.4444444444444444,
              "#bd3786"
             ],
             [
              0.5555555555555556,
              "#d8576b"
             ],
             [
              0.6666666666666666,
              "#ed7953"
             ],
             [
              0.7777777777777778,
              "#fb9f3a"
             ],
             [
              0.8888888888888888,
              "#fdca26"
             ],
             [
              1,
              "#f0f921"
             ]
            ],
            "type": "contour"
           }
          ],
          "contourcarpet": [
           {
            "colorbar": {
             "outlinewidth": 0,
             "ticks": ""
            },
            "type": "contourcarpet"
           }
          ],
          "heatmap": [
           {
            "colorbar": {
             "outlinewidth": 0,
             "ticks": ""
            },
            "colorscale": [
             [
              0,
              "#0d0887"
             ],
             [
              0.1111111111111111,
              "#46039f"
             ],
             [
              0.2222222222222222,
              "#7201a8"
             ],
             [
              0.3333333333333333,
              "#9c179e"
             ],
             [
              0.4444444444444444,
              "#bd3786"
             ],
             [
              0.5555555555555556,
              "#d8576b"
             ],
             [
              0.6666666666666666,
              "#ed7953"
             ],
             [
              0.7777777777777778,
              "#fb9f3a"
             ],
             [
              0.8888888888888888,
              "#fdca26"
             ],
             [
              1,
              "#f0f921"
             ]
            ],
            "type": "heatmap"
           }
          ],
          "heatmapgl": [
           {
            "colorbar": {
             "outlinewidth": 0,
             "ticks": ""
            },
            "colorscale": [
             [
              0,
              "#0d0887"
             ],
             [
              0.1111111111111111,
              "#46039f"
             ],
             [
              0.2222222222222222,
              "#7201a8"
             ],
             [
              0.3333333333333333,
              "#9c179e"
             ],
             [
              0.4444444444444444,
              "#bd3786"
             ],
             [
              0.5555555555555556,
              "#d8576b"
             ],
             [
              0.6666666666666666,
              "#ed7953"
             ],
             [
              0.7777777777777778,
              "#fb9f3a"
             ],
             [
              0.8888888888888888,
              "#fdca26"
             ],
             [
              1,
              "#f0f921"
             ]
            ],
            "type": "heatmapgl"
           }
          ],
          "histogram": [
           {
            "marker": {
             "pattern": {
              "fillmode": "overlay",
              "size": 10,
              "solidity": 0.2
             }
            },
            "type": "histogram"
           }
          ],
          "histogram2d": [
           {
            "colorbar": {
             "outlinewidth": 0,
             "ticks": ""
            },
            "colorscale": [
             [
              0,
              "#0d0887"
             ],
             [
              0.1111111111111111,
              "#46039f"
             ],
             [
              0.2222222222222222,
              "#7201a8"
             ],
             [
              0.3333333333333333,
              "#9c179e"
             ],
             [
              0.4444444444444444,
              "#bd3786"
             ],
             [
              0.5555555555555556,
              "#d8576b"
             ],
             [
              0.6666666666666666,
              "#ed7953"
             ],
             [
              0.7777777777777778,
              "#fb9f3a"
             ],
             [
              0.8888888888888888,
              "#fdca26"
             ],
             [
              1,
              "#f0f921"
             ]
            ],
            "type": "histogram2d"
           }
          ],
          "histogram2dcontour": [
           {
            "colorbar": {
             "outlinewidth": 0,
             "ticks": ""
            },
            "colorscale": [
             [
              0,
              "#0d0887"
             ],
             [
              0.1111111111111111,
              "#46039f"
             ],
             [
              0.2222222222222222,
              "#7201a8"
             ],
             [
              0.3333333333333333,
              "#9c179e"
             ],
             [
              0.4444444444444444,
              "#bd3786"
             ],
             [
              0.5555555555555556,
              "#d8576b"
             ],
             [
              0.6666666666666666,
              "#ed7953"
             ],
             [
              0.7777777777777778,
              "#fb9f3a"
             ],
             [
              0.8888888888888888,
              "#fdca26"
             ],
             [
              1,
              "#f0f921"
             ]
            ],
            "type": "histogram2dcontour"
           }
          ],
          "mesh3d": [
           {
            "colorbar": {
             "outlinewidth": 0,
             "ticks": ""
            },
            "type": "mesh3d"
           }
          ],
          "parcoords": [
           {
            "line": {
             "colorbar": {
              "outlinewidth": 0,
              "ticks": ""
             }
            },
            "type": "parcoords"
           }
          ],
          "pie": [
           {
            "automargin": true,
            "type": "pie"
           }
          ],
          "scatter": [
           {
            "fillpattern": {
             "fillmode": "overlay",
             "size": 10,
             "solidity": 0.2
            },
            "type": "scatter"
           }
          ],
          "scatter3d": [
           {
            "line": {
             "colorbar": {
              "outlinewidth": 0,
              "ticks": ""
             }
            },
            "marker": {
             "colorbar": {
              "outlinewidth": 0,
              "ticks": ""
             }
            },
            "type": "scatter3d"
           }
          ],
          "scattercarpet": [
           {
            "marker": {
             "colorbar": {
              "outlinewidth": 0,
              "ticks": ""
             }
            },
            "type": "scattercarpet"
           }
          ],
          "scattergeo": [
           {
            "marker": {
             "colorbar": {
              "outlinewidth": 0,
              "ticks": ""
             }
            },
            "type": "scattergeo"
           }
          ],
          "scattergl": [
           {
            "marker": {
             "colorbar": {
              "outlinewidth": 0,
              "ticks": ""
             }
            },
            "type": "scattergl"
           }
          ],
          "scattermapbox": [
           {
            "marker": {
             "colorbar": {
              "outlinewidth": 0,
              "ticks": ""
             }
            },
            "type": "scattermapbox"
           }
          ],
          "scatterpolar": [
           {
            "marker": {
             "colorbar": {
              "outlinewidth": 0,
              "ticks": ""
             }
            },
            "type": "scatterpolar"
           }
          ],
          "scatterpolargl": [
           {
            "marker": {
             "colorbar": {
              "outlinewidth": 0,
              "ticks": ""
             }
            },
            "type": "scatterpolargl"
           }
          ],
          "scatterternary": [
           {
            "marker": {
             "colorbar": {
              "outlinewidth": 0,
              "ticks": ""
             }
            },
            "type": "scatterternary"
           }
          ],
          "surface": [
           {
            "colorbar": {
             "outlinewidth": 0,
             "ticks": ""
            },
            "colorscale": [
             [
              0,
              "#0d0887"
             ],
             [
              0.1111111111111111,
              "#46039f"
             ],
             [
              0.2222222222222222,
              "#7201a8"
             ],
             [
              0.3333333333333333,
              "#9c179e"
             ],
             [
              0.4444444444444444,
              "#bd3786"
             ],
             [
              0.5555555555555556,
              "#d8576b"
             ],
             [
              0.6666666666666666,
              "#ed7953"
             ],
             [
              0.7777777777777778,
              "#fb9f3a"
             ],
             [
              0.8888888888888888,
              "#fdca26"
             ],
             [
              1,
              "#f0f921"
             ]
            ],
            "type": "surface"
           }
          ],
          "table": [
           {
            "cells": {
             "fill": {
              "color": "#EBF0F8"
             },
             "line": {
              "color": "white"
             }
            },
            "header": {
             "fill": {
              "color": "#C8D4E3"
             },
             "line": {
              "color": "white"
             }
            },
            "type": "table"
           }
          ]
         },
         "layout": {
          "annotationdefaults": {
           "arrowcolor": "#2a3f5f",
           "arrowhead": 0,
           "arrowwidth": 1
          },
          "autotypenumbers": "strict",
          "coloraxis": {
           "colorbar": {
            "outlinewidth": 0,
            "ticks": ""
           }
          },
          "colorscale": {
           "diverging": [
            [
             0,
             "#8e0152"
            ],
            [
             0.1,
             "#c51b7d"
            ],
            [
             0.2,
             "#de77ae"
            ],
            [
             0.3,
             "#f1b6da"
            ],
            [
             0.4,
             "#fde0ef"
            ],
            [
             0.5,
             "#f7f7f7"
            ],
            [
             0.6,
             "#e6f5d0"
            ],
            [
             0.7,
             "#b8e186"
            ],
            [
             0.8,
             "#7fbc41"
            ],
            [
             0.9,
             "#4d9221"
            ],
            [
             1,
             "#276419"
            ]
           ],
           "sequential": [
            [
             0,
             "#0d0887"
            ],
            [
             0.1111111111111111,
             "#46039f"
            ],
            [
             0.2222222222222222,
             "#7201a8"
            ],
            [
             0.3333333333333333,
             "#9c179e"
            ],
            [
             0.4444444444444444,
             "#bd3786"
            ],
            [
             0.5555555555555556,
             "#d8576b"
            ],
            [
             0.6666666666666666,
             "#ed7953"
            ],
            [
             0.7777777777777778,
             "#fb9f3a"
            ],
            [
             0.8888888888888888,
             "#fdca26"
            ],
            [
             1,
             "#f0f921"
            ]
           ],
           "sequentialminus": [
            [
             0,
             "#0d0887"
            ],
            [
             0.1111111111111111,
             "#46039f"
            ],
            [
             0.2222222222222222,
             "#7201a8"
            ],
            [
             0.3333333333333333,
             "#9c179e"
            ],
            [
             0.4444444444444444,
             "#bd3786"
            ],
            [
             0.5555555555555556,
             "#d8576b"
            ],
            [
             0.6666666666666666,
             "#ed7953"
            ],
            [
             0.7777777777777778,
             "#fb9f3a"
            ],
            [
             0.8888888888888888,
             "#fdca26"
            ],
            [
             1,
             "#f0f921"
            ]
           ]
          },
          "colorway": [
           "#636efa",
           "#EF553B",
           "#00cc96",
           "#ab63fa",
           "#FFA15A",
           "#19d3f3",
           "#FF6692",
           "#B6E880",
           "#FF97FF",
           "#FECB52"
          ],
          "font": {
           "color": "#2a3f5f"
          },
          "geo": {
           "bgcolor": "white",
           "lakecolor": "white",
           "landcolor": "#E5ECF6",
           "showlakes": true,
           "showland": true,
           "subunitcolor": "white"
          },
          "hoverlabel": {
           "align": "left"
          },
          "hovermode": "closest",
          "mapbox": {
           "style": "light"
          },
          "paper_bgcolor": "white",
          "plot_bgcolor": "#E5ECF6",
          "polar": {
           "angularaxis": {
            "gridcolor": "white",
            "linecolor": "white",
            "ticks": ""
           },
           "bgcolor": "#E5ECF6",
           "radialaxis": {
            "gridcolor": "white",
            "linecolor": "white",
            "ticks": ""
           }
          },
          "scene": {
           "xaxis": {
            "backgroundcolor": "#E5ECF6",
            "gridcolor": "white",
            "gridwidth": 2,
            "linecolor": "white",
            "showbackground": true,
            "ticks": "",
            "zerolinecolor": "white"
           },
           "yaxis": {
            "backgroundcolor": "#E5ECF6",
            "gridcolor": "white",
            "gridwidth": 2,
            "linecolor": "white",
            "showbackground": true,
            "ticks": "",
            "zerolinecolor": "white"
           },
           "zaxis": {
            "backgroundcolor": "#E5ECF6",
            "gridcolor": "white",
            "gridwidth": 2,
            "linecolor": "white",
            "showbackground": true,
            "ticks": "",
            "zerolinecolor": "white"
           }
          },
          "shapedefaults": {
           "line": {
            "color": "#2a3f5f"
           }
          },
          "ternary": {
           "aaxis": {
            "gridcolor": "white",
            "linecolor": "white",
            "ticks": ""
           },
           "baxis": {
            "gridcolor": "white",
            "linecolor": "white",
            "ticks": ""
           },
           "bgcolor": "#E5ECF6",
           "caxis": {
            "gridcolor": "white",
            "linecolor": "white",
            "ticks": ""
           }
          },
          "title": {
           "x": 0.05
          },
          "xaxis": {
           "automargin": true,
           "gridcolor": "white",
           "linecolor": "white",
           "ticks": "",
           "title": {
            "standoff": 15
           },
           "zerolinecolor": "white",
           "zerolinewidth": 2
          },
          "yaxis": {
           "automargin": true,
           "gridcolor": "white",
           "linecolor": "white",
           "ticks": "",
           "title": {
            "standoff": 15
           },
           "zerolinecolor": "white",
           "zerolinewidth": 2
          }
         }
        },
        "title": {
         "text": "Commmon Words in Selected Text"
        },
        "width": 700,
        "xaxis": {
         "anchor": "y",
         "domain": [
          0,
          1
         ],
         "title": {
          "text": "count"
         }
        },
        "yaxis": {
         "anchor": "x",
         "categoryarray": [
          "custom",
          "fly",
          "would",
          "cabin",
          "book",
          "ev",
          "busy",
          "good",
          "staff",
          "board",
          "class",
          "on",
          "get",
          "check",
          "crew",
          "hour",
          "seat",
          "tim",
          "u",
          "serv"
         ],
         "categoryorder": "array",
         "domain": [
          0,
          1
         ],
         "title": {
          "text": "Common_words"
         }
        }
       }
      }
     },
     "metadata": {},
     "output_type": "display_data"
    }
   ],
   "source": [
    "import nbformat\n",
    "\n",
    "fig = px.bar(temp, x=\"count\", y=\"Common_words\", title='Commmon Words in Selected Text', orientation='h', \n",
    "             width=700, height=700,color='Common_words')\n",
    "fig.show()"
   ]
  },
  {
   "cell_type": "code",
   "execution_count": 17,
   "metadata": {},
   "outputs": [
    {
     "data": {
      "application/vnd.plotly.v1+json": {
       "config": {
        "plotlyServerURL": "https://plot.ly"
       },
       "data": [
        {
         "branchvalues": "total",
         "domain": {
          "x": [
           0,
           1
          ],
          "y": [
           0,
           1
          ]
         },
         "hovertemplate": "labels=%{label}<br>count=%{value}<br>parent=%{parent}<br>id=%{id}<extra></extra>",
         "ids": [
          "board",
          "book",
          "busy",
          "cabin",
          "check",
          "class",
          "crew",
          "custom",
          "ev",
          "fly",
          "get",
          "good",
          "hour",
          "on",
          "seat",
          "serv",
          "staff",
          "tim",
          "u",
          "would"
         ],
         "labels": [
          "board",
          "book",
          "busy",
          "cabin",
          "check",
          "class",
          "crew",
          "custom",
          "ev",
          "fly",
          "get",
          "good",
          "hour",
          "on",
          "seat",
          "serv",
          "staff",
          "tim",
          "u",
          "would"
         ],
         "name": "",
         "parents": [
          "",
          "",
          "",
          "",
          "",
          "",
          "",
          "",
          "",
          "",
          "",
          "",
          "",
          "",
          "",
          "",
          "",
          "",
          "",
          ""
         ],
         "type": "treemap",
         "values": [
          419,
          389,
          406,
          387,
          451,
          425,
          458,
          341,
          391,
          350,
          442,
          414,
          553,
          437,
          591,
          904,
          415,
          611,
          696,
          370
         ]
        }
       ],
       "layout": {
        "legend": {
         "tracegroupgap": 0
        },
        "template": {
         "data": {
          "bar": [
           {
            "error_x": {
             "color": "#2a3f5f"
            },
            "error_y": {
             "color": "#2a3f5f"
            },
            "marker": {
             "line": {
              "color": "#E5ECF6",
              "width": 0.5
             },
             "pattern": {
              "fillmode": "overlay",
              "size": 10,
              "solidity": 0.2
             }
            },
            "type": "bar"
           }
          ],
          "barpolar": [
           {
            "marker": {
             "line": {
              "color": "#E5ECF6",
              "width": 0.5
             },
             "pattern": {
              "fillmode": "overlay",
              "size": 10,
              "solidity": 0.2
             }
            },
            "type": "barpolar"
           }
          ],
          "carpet": [
           {
            "aaxis": {
             "endlinecolor": "#2a3f5f",
             "gridcolor": "white",
             "linecolor": "white",
             "minorgridcolor": "white",
             "startlinecolor": "#2a3f5f"
            },
            "baxis": {
             "endlinecolor": "#2a3f5f",
             "gridcolor": "white",
             "linecolor": "white",
             "minorgridcolor": "white",
             "startlinecolor": "#2a3f5f"
            },
            "type": "carpet"
           }
          ],
          "choropleth": [
           {
            "colorbar": {
             "outlinewidth": 0,
             "ticks": ""
            },
            "type": "choropleth"
           }
          ],
          "contour": [
           {
            "colorbar": {
             "outlinewidth": 0,
             "ticks": ""
            },
            "colorscale": [
             [
              0,
              "#0d0887"
             ],
             [
              0.1111111111111111,
              "#46039f"
             ],
             [
              0.2222222222222222,
              "#7201a8"
             ],
             [
              0.3333333333333333,
              "#9c179e"
             ],
             [
              0.4444444444444444,
              "#bd3786"
             ],
             [
              0.5555555555555556,
              "#d8576b"
             ],
             [
              0.6666666666666666,
              "#ed7953"
             ],
             [
              0.7777777777777778,
              "#fb9f3a"
             ],
             [
              0.8888888888888888,
              "#fdca26"
             ],
             [
              1,
              "#f0f921"
             ]
            ],
            "type": "contour"
           }
          ],
          "contourcarpet": [
           {
            "colorbar": {
             "outlinewidth": 0,
             "ticks": ""
            },
            "type": "contourcarpet"
           }
          ],
          "heatmap": [
           {
            "colorbar": {
             "outlinewidth": 0,
             "ticks": ""
            },
            "colorscale": [
             [
              0,
              "#0d0887"
             ],
             [
              0.1111111111111111,
              "#46039f"
             ],
             [
              0.2222222222222222,
              "#7201a8"
             ],
             [
              0.3333333333333333,
              "#9c179e"
             ],
             [
              0.4444444444444444,
              "#bd3786"
             ],
             [
              0.5555555555555556,
              "#d8576b"
             ],
             [
              0.6666666666666666,
              "#ed7953"
             ],
             [
              0.7777777777777778,
              "#fb9f3a"
             ],
             [
              0.8888888888888888,
              "#fdca26"
             ],
             [
              1,
              "#f0f921"
             ]
            ],
            "type": "heatmap"
           }
          ],
          "heatmapgl": [
           {
            "colorbar": {
             "outlinewidth": 0,
             "ticks": ""
            },
            "colorscale": [
             [
              0,
              "#0d0887"
             ],
             [
              0.1111111111111111,
              "#46039f"
             ],
             [
              0.2222222222222222,
              "#7201a8"
             ],
             [
              0.3333333333333333,
              "#9c179e"
             ],
             [
              0.4444444444444444,
              "#bd3786"
             ],
             [
              0.5555555555555556,
              "#d8576b"
             ],
             [
              0.6666666666666666,
              "#ed7953"
             ],
             [
              0.7777777777777778,
              "#fb9f3a"
             ],
             [
              0.8888888888888888,
              "#fdca26"
             ],
             [
              1,
              "#f0f921"
             ]
            ],
            "type": "heatmapgl"
           }
          ],
          "histogram": [
           {
            "marker": {
             "pattern": {
              "fillmode": "overlay",
              "size": 10,
              "solidity": 0.2
             }
            },
            "type": "histogram"
           }
          ],
          "histogram2d": [
           {
            "colorbar": {
             "outlinewidth": 0,
             "ticks": ""
            },
            "colorscale": [
             [
              0,
              "#0d0887"
             ],
             [
              0.1111111111111111,
              "#46039f"
             ],
             [
              0.2222222222222222,
              "#7201a8"
             ],
             [
              0.3333333333333333,
              "#9c179e"
             ],
             [
              0.4444444444444444,
              "#bd3786"
             ],
             [
              0.5555555555555556,
              "#d8576b"
             ],
             [
              0.6666666666666666,
              "#ed7953"
             ],
             [
              0.7777777777777778,
              "#fb9f3a"
             ],
             [
              0.8888888888888888,
              "#fdca26"
             ],
             [
              1,
              "#f0f921"
             ]
            ],
            "type": "histogram2d"
           }
          ],
          "histogram2dcontour": [
           {
            "colorbar": {
             "outlinewidth": 0,
             "ticks": ""
            },
            "colorscale": [
             [
              0,
              "#0d0887"
             ],
             [
              0.1111111111111111,
              "#46039f"
             ],
             [
              0.2222222222222222,
              "#7201a8"
             ],
             [
              0.3333333333333333,
              "#9c179e"
             ],
             [
              0.4444444444444444,
              "#bd3786"
             ],
             [
              0.5555555555555556,
              "#d8576b"
             ],
             [
              0.6666666666666666,
              "#ed7953"
             ],
             [
              0.7777777777777778,
              "#fb9f3a"
             ],
             [
              0.8888888888888888,
              "#fdca26"
             ],
             [
              1,
              "#f0f921"
             ]
            ],
            "type": "histogram2dcontour"
           }
          ],
          "mesh3d": [
           {
            "colorbar": {
             "outlinewidth": 0,
             "ticks": ""
            },
            "type": "mesh3d"
           }
          ],
          "parcoords": [
           {
            "line": {
             "colorbar": {
              "outlinewidth": 0,
              "ticks": ""
             }
            },
            "type": "parcoords"
           }
          ],
          "pie": [
           {
            "automargin": true,
            "type": "pie"
           }
          ],
          "scatter": [
           {
            "fillpattern": {
             "fillmode": "overlay",
             "size": 10,
             "solidity": 0.2
            },
            "type": "scatter"
           }
          ],
          "scatter3d": [
           {
            "line": {
             "colorbar": {
              "outlinewidth": 0,
              "ticks": ""
             }
            },
            "marker": {
             "colorbar": {
              "outlinewidth": 0,
              "ticks": ""
             }
            },
            "type": "scatter3d"
           }
          ],
          "scattercarpet": [
           {
            "marker": {
             "colorbar": {
              "outlinewidth": 0,
              "ticks": ""
             }
            },
            "type": "scattercarpet"
           }
          ],
          "scattergeo": [
           {
            "marker": {
             "colorbar": {
              "outlinewidth": 0,
              "ticks": ""
             }
            },
            "type": "scattergeo"
           }
          ],
          "scattergl": [
           {
            "marker": {
             "colorbar": {
              "outlinewidth": 0,
              "ticks": ""
             }
            },
            "type": "scattergl"
           }
          ],
          "scattermapbox": [
           {
            "marker": {
             "colorbar": {
              "outlinewidth": 0,
              "ticks": ""
             }
            },
            "type": "scattermapbox"
           }
          ],
          "scatterpolar": [
           {
            "marker": {
             "colorbar": {
              "outlinewidth": 0,
              "ticks": ""
             }
            },
            "type": "scatterpolar"
           }
          ],
          "scatterpolargl": [
           {
            "marker": {
             "colorbar": {
              "outlinewidth": 0,
              "ticks": ""
             }
            },
            "type": "scatterpolargl"
           }
          ],
          "scatterternary": [
           {
            "marker": {
             "colorbar": {
              "outlinewidth": 0,
              "ticks": ""
             }
            },
            "type": "scatterternary"
           }
          ],
          "surface": [
           {
            "colorbar": {
             "outlinewidth": 0,
             "ticks": ""
            },
            "colorscale": [
             [
              0,
              "#0d0887"
             ],
             [
              0.1111111111111111,
              "#46039f"
             ],
             [
              0.2222222222222222,
              "#7201a8"
             ],
             [
              0.3333333333333333,
              "#9c179e"
             ],
             [
              0.4444444444444444,
              "#bd3786"
             ],
             [
              0.5555555555555556,
              "#d8576b"
             ],
             [
              0.6666666666666666,
              "#ed7953"
             ],
             [
              0.7777777777777778,
              "#fb9f3a"
             ],
             [
              0.8888888888888888,
              "#fdca26"
             ],
             [
              1,
              "#f0f921"
             ]
            ],
            "type": "surface"
           }
          ],
          "table": [
           {
            "cells": {
             "fill": {
              "color": "#EBF0F8"
             },
             "line": {
              "color": "white"
             }
            },
            "header": {
             "fill": {
              "color": "#C8D4E3"
             },
             "line": {
              "color": "white"
             }
            },
            "type": "table"
           }
          ]
         },
         "layout": {
          "annotationdefaults": {
           "arrowcolor": "#2a3f5f",
           "arrowhead": 0,
           "arrowwidth": 1
          },
          "autotypenumbers": "strict",
          "coloraxis": {
           "colorbar": {
            "outlinewidth": 0,
            "ticks": ""
           }
          },
          "colorscale": {
           "diverging": [
            [
             0,
             "#8e0152"
            ],
            [
             0.1,
             "#c51b7d"
            ],
            [
             0.2,
             "#de77ae"
            ],
            [
             0.3,
             "#f1b6da"
            ],
            [
             0.4,
             "#fde0ef"
            ],
            [
             0.5,
             "#f7f7f7"
            ],
            [
             0.6,
             "#e6f5d0"
            ],
            [
             0.7,
             "#b8e186"
            ],
            [
             0.8,
             "#7fbc41"
            ],
            [
             0.9,
             "#4d9221"
            ],
            [
             1,
             "#276419"
            ]
           ],
           "sequential": [
            [
             0,
             "#0d0887"
            ],
            [
             0.1111111111111111,
             "#46039f"
            ],
            [
             0.2222222222222222,
             "#7201a8"
            ],
            [
             0.3333333333333333,
             "#9c179e"
            ],
            [
             0.4444444444444444,
             "#bd3786"
            ],
            [
             0.5555555555555556,
             "#d8576b"
            ],
            [
             0.6666666666666666,
             "#ed7953"
            ],
            [
             0.7777777777777778,
             "#fb9f3a"
            ],
            [
             0.8888888888888888,
             "#fdca26"
            ],
            [
             1,
             "#f0f921"
            ]
           ],
           "sequentialminus": [
            [
             0,
             "#0d0887"
            ],
            [
             0.1111111111111111,
             "#46039f"
            ],
            [
             0.2222222222222222,
             "#7201a8"
            ],
            [
             0.3333333333333333,
             "#9c179e"
            ],
            [
             0.4444444444444444,
             "#bd3786"
            ],
            [
             0.5555555555555556,
             "#d8576b"
            ],
            [
             0.6666666666666666,
             "#ed7953"
            ],
            [
             0.7777777777777778,
             "#fb9f3a"
            ],
            [
             0.8888888888888888,
             "#fdca26"
            ],
            [
             1,
             "#f0f921"
            ]
           ]
          },
          "colorway": [
           "#636efa",
           "#EF553B",
           "#00cc96",
           "#ab63fa",
           "#FFA15A",
           "#19d3f3",
           "#FF6692",
           "#B6E880",
           "#FF97FF",
           "#FECB52"
          ],
          "font": {
           "color": "#2a3f5f"
          },
          "geo": {
           "bgcolor": "white",
           "lakecolor": "white",
           "landcolor": "#E5ECF6",
           "showlakes": true,
           "showland": true,
           "subunitcolor": "white"
          },
          "hoverlabel": {
           "align": "left"
          },
          "hovermode": "closest",
          "mapbox": {
           "style": "light"
          },
          "paper_bgcolor": "white",
          "plot_bgcolor": "#E5ECF6",
          "polar": {
           "angularaxis": {
            "gridcolor": "white",
            "linecolor": "white",
            "ticks": ""
           },
           "bgcolor": "#E5ECF6",
           "radialaxis": {
            "gridcolor": "white",
            "linecolor": "white",
            "ticks": ""
           }
          },
          "scene": {
           "xaxis": {
            "backgroundcolor": "#E5ECF6",
            "gridcolor": "white",
            "gridwidth": 2,
            "linecolor": "white",
            "showbackground": true,
            "ticks": "",
            "zerolinecolor": "white"
           },
           "yaxis": {
            "backgroundcolor": "#E5ECF6",
            "gridcolor": "white",
            "gridwidth": 2,
            "linecolor": "white",
            "showbackground": true,
            "ticks": "",
            "zerolinecolor": "white"
           },
           "zaxis": {
            "backgroundcolor": "#E5ECF6",
            "gridcolor": "white",
            "gridwidth": 2,
            "linecolor": "white",
            "showbackground": true,
            "ticks": "",
            "zerolinecolor": "white"
           }
          },
          "shapedefaults": {
           "line": {
            "color": "#2a3f5f"
           }
          },
          "ternary": {
           "aaxis": {
            "gridcolor": "white",
            "linecolor": "white",
            "ticks": ""
           },
           "baxis": {
            "gridcolor": "white",
            "linecolor": "white",
            "ticks": ""
           },
           "bgcolor": "#E5ECF6",
           "caxis": {
            "gridcolor": "white",
            "linecolor": "white",
            "ticks": ""
           }
          },
          "title": {
           "x": 0.05
          },
          "xaxis": {
           "automargin": true,
           "gridcolor": "white",
           "linecolor": "white",
           "ticks": "",
           "title": {
            "standoff": 15
           },
           "zerolinecolor": "white",
           "zerolinewidth": 2
          },
          "yaxis": {
           "automargin": true,
           "gridcolor": "white",
           "linecolor": "white",
           "ticks": "",
           "title": {
            "standoff": 15
           },
           "zerolinecolor": "white",
           "zerolinewidth": 2
          }
         }
        },
        "title": {
         "text": "Tree of Most Common Words"
        }
       }
      }
     },
     "metadata": {},
     "output_type": "display_data"
    }
   ],
   "source": [
    "fig = px.treemap(temp, path=['Common_words'], values='count',title='Tree of Most Common Words')\n",
    "fig.show()"
   ]
  },
  {
   "cell_type": "code",
   "execution_count": 18,
   "metadata": {},
   "outputs": [],
   "source": [
    "def get_tweet_sentiment(text): \n",
    "    ''' \n",
    "    Utility function to classify sentiment of passed tweet \n",
    "    using textblob's sentiment method \n",
    "    '''\n",
    "    # create TextBlob object of passed tweet text \n",
    "    analysis = TextBlob(text) \n",
    "    \n",
    "    # set sentiment \n",
    "    if analysis.sentiment.polarity > 0:\n",
    "        return 'positive'\n",
    "    elif analysis.sentiment.polarity == 0: \n",
    "        return 'neutral'\n",
    "    else: \n",
    "        return 'negative'\n"
   ]
  },
  {
   "cell_type": "code",
   "execution_count": 20,
   "metadata": {},
   "outputs": [
    {
     "data": {
      "text/html": [
       "<div>\n",
       "<style scoped>\n",
       "    .dataframe tbody tr th:only-of-type {\n",
       "        vertical-align: middle;\n",
       "    }\n",
       "\n",
       "    .dataframe tbody tr th {\n",
       "        vertical-align: top;\n",
       "    }\n",
       "\n",
       "    .dataframe thead th {\n",
       "        text-align: right;\n",
       "    }\n",
       "</style>\n",
       "<table border=\"1\" class=\"dataframe\">\n",
       "  <thead>\n",
       "    <tr style=\"text-align: right;\">\n",
       "      <th></th>\n",
       "      <th>Unnamed: 0</th>\n",
       "      <th>reviews</th>\n",
       "      <th>sentiment</th>\n",
       "    </tr>\n",
       "  </thead>\n",
       "  <tbody>\n",
       "    <tr>\n",
       "      <th>0</th>\n",
       "      <td>0</td>\n",
       "      <td>[despit, board, u, fre, lhr, group, cal, board...</td>\n",
       "      <td>positive</td>\n",
       "    </tr>\n",
       "    <tr>\n",
       "      <th>1</th>\n",
       "      <td>1</td>\n",
       "      <td>[cancel, crew, septemb, peak, holiday, period,...</td>\n",
       "      <td>negative</td>\n",
       "    </tr>\n",
       "    <tr>\n",
       "      <th>2</th>\n",
       "      <td>2</td>\n",
       "      <td>[worst, serv, ev, bag, ar, tim, flight, delay,...</td>\n",
       "      <td>negative</td>\n",
       "    </tr>\n",
       "    <tr>\n",
       "      <th>3</th>\n",
       "      <td>3</td>\n",
       "      <td>[flight, book, holiday, delay, hour, wif, avai...</td>\n",
       "      <td>neutral</td>\n",
       "    </tr>\n",
       "    <tr>\n",
       "      <th>4</th>\n",
       "      <td>4</td>\n",
       "      <td>[tot, lack, respect, custom, book, fly, frankf...</td>\n",
       "      <td>negative</td>\n",
       "    </tr>\n",
       "  </tbody>\n",
       "</table>\n",
       "</div>"
      ],
      "text/plain": [
       "   Unnamed: 0                                            reviews sentiment\n",
       "0           0  [despit, board, u, fre, lhr, group, cal, board...  positive\n",
       "1           1  [cancel, crew, septemb, peak, holiday, period,...  negative\n",
       "2           2  [worst, serv, ev, bag, ar, tim, flight, delay,...  negative\n",
       "3           3  [flight, book, holiday, delay, hour, wif, avai...   neutral\n",
       "4           4  [tot, lack, respect, custom, book, fly, frankf...  negative"
      ]
     },
     "execution_count": 20,
     "metadata": {},
     "output_type": "execute_result"
    }
   ],
   "source": [
    "df['sentiment']=df['reviews'].apply(lambda x: get_tweet_sentiment(' '.join(x)))\n",
    "df.head()"
   ]
  },
  {
   "cell_type": "code",
   "execution_count": 21,
   "metadata": {},
   "outputs": [
    {
     "name": "stdout",
     "output_type": "stream",
     "text": [
      "Number of tweets with positive sentiment 654\n",
      "Number of tweets with negative sentiment 303\n",
      "Number of tweets with neutral sentiment 43\n"
     ]
    }
   ],
   "source": [
    "Positive_sent = df[df['sentiment']=='positive']\n",
    "Negative_sent = df[df['sentiment']=='negative']\n",
    "Neutral_sent = df[df['sentiment']=='neutral']\n",
    "\n",
    "print('Number of tweets with positive sentiment', Positive_sent['sentiment'].count())\n",
    "print('Number of tweets with negative sentiment', Negative_sent['sentiment'].count())\n",
    "print('Number of tweets with neutral sentiment', Neutral_sent['sentiment'].count())"
   ]
  },
  {
   "cell_type": "code",
   "execution_count": 22,
   "metadata": {},
   "outputs": [
    {
     "data": {
      "text/html": [
       "<style type=\"text/css\">\n",
       "#T_ea665_row0_col1 {\n",
       "  background-color: #00441b;\n",
       "  color: #f1f1f1;\n",
       "}\n",
       "#T_ea665_row1_col1 {\n",
       "  background-color: #6bc072;\n",
       "  color: #000000;\n",
       "}\n",
       "#T_ea665_row2_col1 {\n",
       "  background-color: #6dc072;\n",
       "  color: #000000;\n",
       "}\n",
       "#T_ea665_row3_col1 {\n",
       "  background-color: #80ca80;\n",
       "  color: #000000;\n",
       "}\n",
       "#T_ea665_row4_col1 {\n",
       "  background-color: #8ed08b;\n",
       "  color: #000000;\n",
       "}\n",
       "#T_ea665_row5_col1 {\n",
       "  background-color: #b6e2af;\n",
       "  color: #000000;\n",
       "}\n",
       "#T_ea665_row6_col1 {\n",
       "  background-color: #caeac3;\n",
       "  color: #000000;\n",
       "}\n",
       "#T_ea665_row7_col1 {\n",
       "  background-color: #ccebc6;\n",
       "  color: #000000;\n",
       "}\n",
       "#T_ea665_row8_col1 {\n",
       "  background-color: #cdecc7;\n",
       "  color: #000000;\n",
       "}\n",
       "#T_ea665_row9_col1 {\n",
       "  background-color: #cfecc9;\n",
       "  color: #000000;\n",
       "}\n",
       "#T_ea665_row10_col1 {\n",
       "  background-color: #d1edcb;\n",
       "  color: #000000;\n",
       "}\n",
       "#T_ea665_row11_col1 {\n",
       "  background-color: #d3eecd;\n",
       "  color: #000000;\n",
       "}\n",
       "#T_ea665_row12_col1 {\n",
       "  background-color: #d6efd0;\n",
       "  color: #000000;\n",
       "}\n",
       "#T_ea665_row13_col1 {\n",
       "  background-color: #daf0d4;\n",
       "  color: #000000;\n",
       "}\n",
       "#T_ea665_row14_col1 {\n",
       "  background-color: #e3f4de;\n",
       "  color: #000000;\n",
       "}\n",
       "#T_ea665_row15_col1 {\n",
       "  background-color: #e5f5e1;\n",
       "  color: #000000;\n",
       "}\n",
       "#T_ea665_row16_col1 {\n",
       "  background-color: #e9f7e5;\n",
       "  color: #000000;\n",
       "}\n",
       "#T_ea665_row17_col1 {\n",
       "  background-color: #eef8ea;\n",
       "  color: #000000;\n",
       "}\n",
       "#T_ea665_row18_col1 {\n",
       "  background-color: #f0f9ed;\n",
       "  color: #000000;\n",
       "}\n",
       "#T_ea665_row19_col1 {\n",
       "  background-color: #f7fcf5;\n",
       "  color: #000000;\n",
       "}\n",
       "</style>\n",
       "<table id=\"T_ea665\">\n",
       "  <thead>\n",
       "    <tr>\n",
       "      <th class=\"blank level0\" >&nbsp;</th>\n",
       "      <th id=\"T_ea665_level0_col0\" class=\"col_heading level0 col0\" >Common_words</th>\n",
       "      <th id=\"T_ea665_level0_col1\" class=\"col_heading level0 col1\" >count</th>\n",
       "    </tr>\n",
       "  </thead>\n",
       "  <tbody>\n",
       "    <tr>\n",
       "      <th id=\"T_ea665_level0_row0\" class=\"row_heading level0 row0\" >0</th>\n",
       "      <td id=\"T_ea665_row0_col0\" class=\"data row0 col0\" >serv</td>\n",
       "      <td id=\"T_ea665_row0_col1\" class=\"data row0 col1\" >635</td>\n",
       "    </tr>\n",
       "    <tr>\n",
       "      <th id=\"T_ea665_level0_row1\" class=\"row_heading level0 row1\" >1</th>\n",
       "      <td id=\"T_ea665_row1_col0\" class=\"data row1 col0\" >tim</td>\n",
       "      <td id=\"T_ea665_row1_col1\" class=\"data row1 col1\" >437</td>\n",
       "    </tr>\n",
       "    <tr>\n",
       "      <th id=\"T_ea665_level0_row2\" class=\"row_heading level0 row2\" >2</th>\n",
       "      <td id=\"T_ea665_row2_col0\" class=\"data row2 col0\" >u</td>\n",
       "      <td id=\"T_ea665_row2_col1\" class=\"data row2 col1\" >436</td>\n",
       "    </tr>\n",
       "    <tr>\n",
       "      <th id=\"T_ea665_level0_row3\" class=\"row_heading level0 row3\" >3</th>\n",
       "      <td id=\"T_ea665_row3_col0\" class=\"data row3 col0\" >seat</td>\n",
       "      <td id=\"T_ea665_row3_col1\" class=\"data row3 col1\" >414</td>\n",
       "    </tr>\n",
       "    <tr>\n",
       "      <th id=\"T_ea665_level0_row4\" class=\"row_heading level0 row4\" >4</th>\n",
       "      <td id=\"T_ea665_row4_col0\" class=\"data row4 col0\" >good</td>\n",
       "      <td id=\"T_ea665_row4_col1\" class=\"data row4 col1\" >398</td>\n",
       "    </tr>\n",
       "    <tr>\n",
       "      <th id=\"T_ea665_level0_row5\" class=\"row_heading level0 row5\" >5</th>\n",
       "      <td id=\"T_ea665_row5_col0\" class=\"data row5 col0\" >crew</td>\n",
       "      <td id=\"T_ea665_row5_col1\" class=\"data row5 col1\" >348</td>\n",
       "    </tr>\n",
       "    <tr>\n",
       "      <th id=\"T_ea665_level0_row6\" class=\"row_heading level0 row6\" >6</th>\n",
       "      <td id=\"T_ea665_row6_col0\" class=\"data row6 col0\" >check</td>\n",
       "      <td id=\"T_ea665_row6_col1\" class=\"data row6 col1\" >320</td>\n",
       "    </tr>\n",
       "    <tr>\n",
       "      <th id=\"T_ea665_level0_row7\" class=\"row_heading level0 row7\" >7</th>\n",
       "      <td id=\"T_ea665_row7_col0\" class=\"data row7 col0\" >board</td>\n",
       "      <td id=\"T_ea665_row7_col1\" class=\"data row7 col1\" >316</td>\n",
       "    </tr>\n",
       "    <tr>\n",
       "      <th id=\"T_ea665_level0_row8\" class=\"row_heading level0 row8\" >8</th>\n",
       "      <td id=\"T_ea665_row8_col0\" class=\"data row8 col0\" >hour</td>\n",
       "      <td id=\"T_ea665_row8_col1\" class=\"data row8 col1\" >314</td>\n",
       "    </tr>\n",
       "    <tr>\n",
       "      <th id=\"T_ea665_level0_row9\" class=\"row_heading level0 row9\" >9</th>\n",
       "      <td id=\"T_ea665_row9_col0\" class=\"data row9 col0\" >class</td>\n",
       "      <td id=\"T_ea665_row9_col1\" class=\"data row9 col1\" >310</td>\n",
       "    </tr>\n",
       "    <tr>\n",
       "      <th id=\"T_ea665_level0_row10\" class=\"row_heading level0 row10\" >10</th>\n",
       "      <td id=\"T_ea665_row10_col0\" class=\"data row10 col0\" >busy</td>\n",
       "      <td id=\"T_ea665_row10_col1\" class=\"data row10 col1\" >308</td>\n",
       "    </tr>\n",
       "    <tr>\n",
       "      <th id=\"T_ea665_level0_row11\" class=\"row_heading level0 row11\" >11</th>\n",
       "      <td id=\"T_ea665_row11_col0\" class=\"data row11 col0\" >fly</td>\n",
       "      <td id=\"T_ea665_row11_col1\" class=\"data row11 col1\" >305</td>\n",
       "    </tr>\n",
       "    <tr>\n",
       "      <th id=\"T_ea665_level0_row12\" class=\"row_heading level0 row12\" >12</th>\n",
       "      <td id=\"T_ea665_row12_col0\" class=\"data row12 col0\" >cabin</td>\n",
       "      <td id=\"T_ea665_row12_col1\" class=\"data row12 col1\" >299</td>\n",
       "    </tr>\n",
       "    <tr>\n",
       "      <th id=\"T_ea665_level0_row13\" class=\"row_heading level0 row13\" >13</th>\n",
       "      <td id=\"T_ea665_row13_col0\" class=\"data row13 col0\" >get</td>\n",
       "      <td id=\"T_ea665_row13_col1\" class=\"data row13 col1\" >293</td>\n",
       "    </tr>\n",
       "    <tr>\n",
       "      <th id=\"T_ea665_level0_row14\" class=\"row_heading level0 row14\" >14</th>\n",
       "      <td id=\"T_ea665_row14_col0\" class=\"data row14 col0\" >staff</td>\n",
       "      <td id=\"T_ea665_row14_col1\" class=\"data row14 col1\" >277</td>\n",
       "    </tr>\n",
       "    <tr>\n",
       "      <th id=\"T_ea665_level0_row15\" class=\"row_heading level0 row15\" >15</th>\n",
       "      <td id=\"T_ea665_row15_col0\" class=\"data row15 col0\" >on</td>\n",
       "      <td id=\"T_ea665_row15_col1\" class=\"data row15 col1\" >272</td>\n",
       "    </tr>\n",
       "    <tr>\n",
       "      <th id=\"T_ea665_level0_row16\" class=\"row_heading level0 row16\" >16</th>\n",
       "      <td id=\"T_ea665_row16_col0\" class=\"data row16 col0\" >would</td>\n",
       "      <td id=\"T_ea665_row16_col1\" class=\"data row16 col1\" >263</td>\n",
       "    </tr>\n",
       "    <tr>\n",
       "      <th id=\"T_ea665_level0_row17\" class=\"row_heading level0 row17\" >17</th>\n",
       "      <td id=\"T_ea665_row17_col0\" class=\"data row17 col0\" >ev</td>\n",
       "      <td id=\"T_ea665_row17_col1\" class=\"data row17 col1\" >247</td>\n",
       "    </tr>\n",
       "    <tr>\n",
       "      <th id=\"T_ea665_level0_row18\" class=\"row_heading level0 row18\" >18</th>\n",
       "      <td id=\"T_ea665_row18_col0\" class=\"data row18 col0\" >book</td>\n",
       "      <td id=\"T_ea665_row18_col1\" class=\"data row18 col1\" >242</td>\n",
       "    </tr>\n",
       "    <tr>\n",
       "      <th id=\"T_ea665_level0_row19\" class=\"row_heading level0 row19\" >19</th>\n",
       "      <td id=\"T_ea665_row19_col0\" class=\"data row19 col0\" >econom</td>\n",
       "      <td id=\"T_ea665_row19_col1\" class=\"data row19 col1\" >221</td>\n",
       "    </tr>\n",
       "  </tbody>\n",
       "</table>\n"
      ],
      "text/plain": [
       "<pandas.io.formats.style.Styler at 0x275eb5f94c0>"
      ]
     },
     "execution_count": 22,
     "metadata": {},
     "output_type": "execute_result"
    }
   ],
   "source": [
    "#Most common Positive words\n",
    "top = Counter([item for sublist in Positive_sent['reviews'] for item in sublist])\n",
    "temp_positive = pd.DataFrame(top.most_common(20))\n",
    "temp_positive.columns = ['Common_words','count']\n",
    "temp_positive.style.background_gradient(cmap='Greens')"
   ]
  },
  {
   "cell_type": "code",
   "execution_count": 24,
   "metadata": {},
   "outputs": [
    {
     "data": {
      "text/html": [
       "<style type=\"text/css\">\n",
       "#T_70d6c_row0_col1 {\n",
       "  background-color: #67000d;\n",
       "  color: #f1f1f1;\n",
       "}\n",
       "#T_70d6c_row1_col1 {\n",
       "  background-color: #9d0d14;\n",
       "  color: #f1f1f1;\n",
       "}\n",
       "#T_70d6c_row2_col1 {\n",
       "  background-color: #fb7b5b;\n",
       "  color: #f1f1f1;\n",
       "}\n",
       "#T_70d6c_row3_col1 {\n",
       "  background-color: #fc8666;\n",
       "  color: #f1f1f1;\n",
       "}\n",
       "#T_70d6c_row4_col1 {\n",
       "  background-color: #fc9c7d;\n",
       "  color: #000000;\n",
       "}\n",
       "#T_70d6c_row5_col1 {\n",
       "  background-color: #fca78b;\n",
       "  color: #000000;\n",
       "}\n",
       "#T_70d6c_row6_col1 {\n",
       "  background-color: #fcb79c;\n",
       "  color: #000000;\n",
       "}\n",
       "#T_70d6c_row7_col1 {\n",
       "  background-color: #fcbda4;\n",
       "  color: #000000;\n",
       "}\n",
       "#T_70d6c_row8_col1, #T_70d6c_row9_col1 {\n",
       "  background-color: #fdc6b0;\n",
       "  color: #000000;\n",
       "}\n",
       "#T_70d6c_row10_col1 {\n",
       "  background-color: #fedccd;\n",
       "  color: #000000;\n",
       "}\n",
       "#T_70d6c_row11_col1 {\n",
       "  background-color: #fedfd0;\n",
       "  color: #000000;\n",
       "}\n",
       "#T_70d6c_row12_col1, #T_70d6c_row13_col1 {\n",
       "  background-color: #ffebe2;\n",
       "  color: #000000;\n",
       "}\n",
       "#T_70d6c_row14_col1 {\n",
       "  background-color: #ffeee6;\n",
       "  color: #000000;\n",
       "}\n",
       "#T_70d6c_row15_col1 {\n",
       "  background-color: #fff0e9;\n",
       "  color: #000000;\n",
       "}\n",
       "#T_70d6c_row16_col1, #T_70d6c_row17_col1 {\n",
       "  background-color: #fff4ef;\n",
       "  color: #000000;\n",
       "}\n",
       "#T_70d6c_row18_col1 {\n",
       "  background-color: #fff5f0;\n",
       "  color: #000000;\n",
       "}\n",
       "</style>\n",
       "<table id=\"T_70d6c\">\n",
       "  <thead>\n",
       "    <tr>\n",
       "      <th class=\"blank level0\" >&nbsp;</th>\n",
       "      <th id=\"T_70d6c_level0_col0\" class=\"col_heading level0 col0\" >Common_words</th>\n",
       "      <th id=\"T_70d6c_level0_col1\" class=\"col_heading level0 col1\" >count</th>\n",
       "    </tr>\n",
       "  </thead>\n",
       "  <tbody>\n",
       "    <tr>\n",
       "      <th id=\"T_70d6c_level0_row0\" class=\"row_heading level0 row0\" >1</th>\n",
       "      <td id=\"T_70d6c_row0_col0\" class=\"data row0 col0\" >u</td>\n",
       "      <td id=\"T_70d6c_row0_col1\" class=\"data row0 col1\" >241</td>\n",
       "    </tr>\n",
       "    <tr>\n",
       "      <th id=\"T_70d6c_level0_row1\" class=\"row_heading level0 row1\" >2</th>\n",
       "      <td id=\"T_70d6c_row1_col0\" class=\"data row1 col0\" >hour</td>\n",
       "      <td id=\"T_70d6c_row1_col1\" class=\"data row1 col1\" >226</td>\n",
       "    </tr>\n",
       "    <tr>\n",
       "      <th id=\"T_70d6c_level0_row2\" class=\"row_heading level0 row2\" >3</th>\n",
       "      <td id=\"T_70d6c_row2_col0\" class=\"data row2 col0\" >tim</td>\n",
       "      <td id=\"T_70d6c_row2_col1\" class=\"data row2 col1\" >166</td>\n",
       "    </tr>\n",
       "    <tr>\n",
       "      <th id=\"T_70d6c_level0_row3\" class=\"row_heading level0 row3\" >4</th>\n",
       "      <td id=\"T_70d6c_row3_col0\" class=\"data row3 col0\" >seat</td>\n",
       "      <td id=\"T_70d6c_row3_col1\" class=\"data row3 col1\" >161</td>\n",
       "    </tr>\n",
       "    <tr>\n",
       "      <th id=\"T_70d6c_level0_row4\" class=\"row_heading level0 row4\" >5</th>\n",
       "      <td id=\"T_70d6c_row4_col0\" class=\"data row4 col0\" >on</td>\n",
       "      <td id=\"T_70d6c_row4_col1\" class=\"data row4 col1\" >152</td>\n",
       "    </tr>\n",
       "    <tr>\n",
       "      <th id=\"T_70d6c_level0_row5\" class=\"row_heading level0 row5\" >6</th>\n",
       "      <td id=\"T_70d6c_row5_col0\" class=\"data row5 col0\" >cal</td>\n",
       "      <td id=\"T_70d6c_row5_col1\" class=\"data row5 col1\" >147</td>\n",
       "    </tr>\n",
       "    <tr>\n",
       "      <th id=\"T_70d6c_level0_row6\" class=\"row_heading level0 row6\" >7</th>\n",
       "      <td id=\"T_70d6c_row6_col0\" class=\"data row6 col0\" >get</td>\n",
       "      <td id=\"T_70d6c_row6_col1\" class=\"data row6 col1\" >141</td>\n",
       "    </tr>\n",
       "    <tr>\n",
       "      <th id=\"T_70d6c_level0_row7\" class=\"row_heading level0 row7\" >8</th>\n",
       "      <td id=\"T_70d6c_row7_col0\" class=\"data row7 col0\" >custom</td>\n",
       "      <td id=\"T_70d6c_row7_col1\" class=\"data row7 col1\" >138</td>\n",
       "    </tr>\n",
       "    <tr>\n",
       "      <th id=\"T_70d6c_level0_row8\" class=\"row_heading level0 row8\" >9</th>\n",
       "      <td id=\"T_70d6c_row8_col0\" class=\"data row8 col0\" >ev</td>\n",
       "      <td id=\"T_70d6c_row8_col1\" class=\"data row8 col1\" >134</td>\n",
       "    </tr>\n",
       "    <tr>\n",
       "      <th id=\"T_70d6c_level0_row9\" class=\"row_heading level0 row9\" >10</th>\n",
       "      <td id=\"T_70d6c_row9_col0\" class=\"data row9 col0\" >book</td>\n",
       "      <td id=\"T_70d6c_row9_col1\" class=\"data row9 col1\" >134</td>\n",
       "    </tr>\n",
       "    <tr>\n",
       "      <th id=\"T_70d6c_level0_row10\" class=\"row_heading level0 row10\" >11</th>\n",
       "      <td id=\"T_70d6c_row10_col0\" class=\"data row10 col0\" >staff</td>\n",
       "      <td id=\"T_70d6c_row10_col1\" class=\"data row10 col1\" >124</td>\n",
       "    </tr>\n",
       "    <tr>\n",
       "      <th id=\"T_70d6c_level0_row11\" class=\"row_heading level0 row11\" >12</th>\n",
       "      <td id=\"T_70d6c_row11_col0\" class=\"data row11 col0\" >check</td>\n",
       "      <td id=\"T_70d6c_row11_col1\" class=\"data row11 col1\" >123</td>\n",
       "    </tr>\n",
       "    <tr>\n",
       "      <th id=\"T_70d6c_level0_row12\" class=\"row_heading level0 row12\" >13</th>\n",
       "      <td id=\"T_70d6c_row12_col0\" class=\"data row12 col0\" >day</td>\n",
       "      <td id=\"T_70d6c_row12_col1\" class=\"data row12 col1\" >113</td>\n",
       "    </tr>\n",
       "    <tr>\n",
       "      <th id=\"T_70d6c_level0_row13\" class=\"row_heading level0 row13\" >14</th>\n",
       "      <td id=\"T_70d6c_row13_col0\" class=\"data row13 col0\" >class</td>\n",
       "      <td id=\"T_70d6c_row13_col1\" class=\"data row13 col1\" >113</td>\n",
       "    </tr>\n",
       "    <tr>\n",
       "      <th id=\"T_70d6c_level0_row14\" class=\"row_heading level0 row14\" >15</th>\n",
       "      <td id=\"T_70d6c_row14_col0\" class=\"data row14 col0\" >cancel</td>\n",
       "      <td id=\"T_70d6c_row14_col1\" class=\"data row14 col1\" >111</td>\n",
       "    </tr>\n",
       "    <tr>\n",
       "      <th id=\"T_70d6c_level0_row15\" class=\"row_heading level0 row15\" >16</th>\n",
       "      <td id=\"T_70d6c_row15_col0\" class=\"data row15 col0\" >told</td>\n",
       "      <td id=\"T_70d6c_row15_col1\" class=\"data row15 col1\" >109</td>\n",
       "    </tr>\n",
       "    <tr>\n",
       "      <th id=\"T_70d6c_level0_row16\" class=\"row_heading level0 row16\" >17</th>\n",
       "      <td id=\"T_70d6c_row16_col0\" class=\"data row16 col0\" >crew</td>\n",
       "      <td id=\"T_70d6c_row16_col1\" class=\"data row16 col1\" >106</td>\n",
       "    </tr>\n",
       "    <tr>\n",
       "      <th id=\"T_70d6c_level0_row17\" class=\"row_heading level0 row17\" >18</th>\n",
       "      <td id=\"T_70d6c_row17_col0\" class=\"data row17 col0\" >delay</td>\n",
       "      <td id=\"T_70d6c_row17_col1\" class=\"data row17 col1\" >106</td>\n",
       "    </tr>\n",
       "    <tr>\n",
       "      <th id=\"T_70d6c_level0_row18\" class=\"row_heading level0 row18\" >19</th>\n",
       "      <td id=\"T_70d6c_row18_col0\" class=\"data row18 col0\" >would</td>\n",
       "      <td id=\"T_70d6c_row18_col1\" class=\"data row18 col1\" >105</td>\n",
       "    </tr>\n",
       "  </tbody>\n",
       "</table>\n"
      ],
      "text/plain": [
       "<pandas.io.formats.style.Styler at 0x275eb3a1eb0>"
      ]
     },
     "execution_count": 24,
     "metadata": {},
     "output_type": "execute_result"
    }
   ],
   "source": [
    "#Most common Negative words\n",
    "top = Counter([item for sublist in Negative_sent['reviews'] for item in sublist])\n",
    "temp_negative = pd.DataFrame(top.most_common(20))\n",
    "temp_negative = temp_negative.iloc[1:,:]\n",
    "temp_negative.columns = ['Common_words','count']\n",
    "temp_negative.style.background_gradient(cmap='Reds')"
   ]
  },
  {
   "cell_type": "code",
   "execution_count": 27,
   "metadata": {},
   "outputs": [
    {
     "data": {
      "text/html": [
       "<style type=\"text/css\">\n",
       "#T_5a345_row0_col1 {\n",
       "  background-color: #08306b;\n",
       "  color: #f1f1f1;\n",
       "}\n",
       "#T_5a345_row1_col1 {\n",
       "  background-color: #08509b;\n",
       "  color: #f1f1f1;\n",
       "}\n",
       "#T_5a345_row2_col1 {\n",
       "  background-color: #2070b4;\n",
       "  color: #f1f1f1;\n",
       "}\n",
       "#T_5a345_row3_col1, #T_5a345_row4_col1, #T_5a345_row5_col1 {\n",
       "  background-color: #4191c6;\n",
       "  color: #f1f1f1;\n",
       "}\n",
       "#T_5a345_row6_col1, #T_5a345_row7_col1, #T_5a345_row8_col1 {\n",
       "  background-color: #6aaed6;\n",
       "  color: #f1f1f1;\n",
       "}\n",
       "#T_5a345_row9_col1, #T_5a345_row10_col1 {\n",
       "  background-color: #9dcae1;\n",
       "  color: #000000;\n",
       "}\n",
       "#T_5a345_row11_col1, #T_5a345_row12_col1, #T_5a345_row13_col1, #T_5a345_row14_col1 {\n",
       "  background-color: #c6dbef;\n",
       "  color: #000000;\n",
       "}\n",
       "#T_5a345_row15_col1, #T_5a345_row16_col1, #T_5a345_row17_col1 {\n",
       "  background-color: #deebf7;\n",
       "  color: #000000;\n",
       "}\n",
       "#T_5a345_row18_col1 {\n",
       "  background-color: #f7fbff;\n",
       "  color: #000000;\n",
       "}\n",
       "</style>\n",
       "<table id=\"T_5a345\">\n",
       "  <thead>\n",
       "    <tr>\n",
       "      <th class=\"blank level0\" >&nbsp;</th>\n",
       "      <th id=\"T_5a345_level0_col0\" class=\"col_heading level0 col0\" >Common_words</th>\n",
       "      <th id=\"T_5a345_level0_col1\" class=\"col_heading level0 col1\" >count</th>\n",
       "    </tr>\n",
       "  </thead>\n",
       "  <tbody>\n",
       "    <tr>\n",
       "      <th id=\"T_5a345_level0_row0\" class=\"row_heading level0 row0\" >1</th>\n",
       "      <td id=\"T_5a345_row0_col0\" class=\"data row0 col0\" >seat</td>\n",
       "      <td id=\"T_5a345_row0_col1\" class=\"data row0 col1\" >16</td>\n",
       "    </tr>\n",
       "    <tr>\n",
       "      <th id=\"T_5a345_level0_row1\" class=\"row_heading level0 row1\" >2</th>\n",
       "      <td id=\"T_5a345_row1_col0\" class=\"data row1 col0\" >cancel</td>\n",
       "      <td id=\"T_5a345_row1_col1\" class=\"data row1 col1\" >15</td>\n",
       "    </tr>\n",
       "    <tr>\n",
       "      <th id=\"T_5a345_level0_row2\" class=\"row_heading level0 row2\" >3</th>\n",
       "      <td id=\"T_5a345_row2_col0\" class=\"data row2 col0\" >staff</td>\n",
       "      <td id=\"T_5a345_row2_col1\" class=\"data row2 col1\" >14</td>\n",
       "    </tr>\n",
       "    <tr>\n",
       "      <th id=\"T_5a345_level0_row3\" class=\"row_heading level0 row3\" >4</th>\n",
       "      <td id=\"T_5a345_row3_col0\" class=\"data row3 col0\" >book</td>\n",
       "      <td id=\"T_5a345_row3_col1\" class=\"data row3 col1\" >13</td>\n",
       "    </tr>\n",
       "    <tr>\n",
       "      <th id=\"T_5a345_level0_row4\" class=\"row_heading level0 row4\" >5</th>\n",
       "      <td id=\"T_5a345_row4_col0\" class=\"data row4 col0\" >hour</td>\n",
       "      <td id=\"T_5a345_row4_col1\" class=\"data row4 col1\" >13</td>\n",
       "    </tr>\n",
       "    <tr>\n",
       "      <th id=\"T_5a345_level0_row5\" class=\"row_heading level0 row5\" >6</th>\n",
       "      <td id=\"T_5a345_row5_col0\" class=\"data row5 col0\" >on</td>\n",
       "      <td id=\"T_5a345_row5_col1\" class=\"data row5 col1\" >13</td>\n",
       "    </tr>\n",
       "    <tr>\n",
       "      <th id=\"T_5a345_level0_row6\" class=\"row_heading level0 row6\" >7</th>\n",
       "      <td id=\"T_5a345_row6_col0\" class=\"data row6 col0\" >flight</td>\n",
       "      <td id=\"T_5a345_row6_col1\" class=\"data row6 col1\" >12</td>\n",
       "    </tr>\n",
       "    <tr>\n",
       "      <th id=\"T_5a345_level0_row7\" class=\"row_heading level0 row7\" >8</th>\n",
       "      <td id=\"T_5a345_row7_col0\" class=\"data row7 col0\" >day</td>\n",
       "      <td id=\"T_5a345_row7_col1\" class=\"data row7 col1\" >12</td>\n",
       "    </tr>\n",
       "    <tr>\n",
       "      <th id=\"T_5a345_level0_row8\" class=\"row_heading level0 row8\" >9</th>\n",
       "      <td id=\"T_5a345_row8_col0\" class=\"data row8 col0\" >serv</td>\n",
       "      <td id=\"T_5a345_row8_col1\" class=\"data row8 col1\" >12</td>\n",
       "    </tr>\n",
       "    <tr>\n",
       "      <th id=\"T_5a345_level0_row9\" class=\"row_heading level0 row9\" >10</th>\n",
       "      <td id=\"T_5a345_row9_col0\" class=\"data row9 col0\" >delay</td>\n",
       "      <td id=\"T_5a345_row9_col1\" class=\"data row9 col1\" >11</td>\n",
       "    </tr>\n",
       "    <tr>\n",
       "      <th id=\"T_5a345_level0_row10\" class=\"row_heading level0 row10\" >11</th>\n",
       "      <td id=\"T_5a345_row10_col0\" class=\"data row10 col0\" >chang</td>\n",
       "      <td id=\"T_5a345_row10_col1\" class=\"data row10 col1\" >11</td>\n",
       "    </tr>\n",
       "    <tr>\n",
       "      <th id=\"T_5a345_level0_row11\" class=\"row_heading level0 row11\" >12</th>\n",
       "      <td id=\"T_5a345_row11_col0\" class=\"data row11 col0\" >ev</td>\n",
       "      <td id=\"T_5a345_row11_col1\" class=\"data row11 col1\" >10</td>\n",
       "    </tr>\n",
       "    <tr>\n",
       "      <th id=\"T_5a345_level0_row12\" class=\"row_heading level0 row12\" >13</th>\n",
       "      <td id=\"T_5a345_row12_col0\" class=\"data row12 col0\" >suitcas</td>\n",
       "      <td id=\"T_5a345_row12_col1\" class=\"data row12 col1\" >10</td>\n",
       "    </tr>\n",
       "    <tr>\n",
       "      <th id=\"T_5a345_level0_row13\" class=\"row_heading level0 row13\" >14</th>\n",
       "      <td id=\"T_5a345_row13_col0\" class=\"data row13 col0\" >ar</td>\n",
       "      <td id=\"T_5a345_row13_col1\" class=\"data row13 col1\" >10</td>\n",
       "    </tr>\n",
       "    <tr>\n",
       "      <th id=\"T_5a345_level0_row14\" class=\"row_heading level0 row14\" >15</th>\n",
       "      <td id=\"T_5a345_row14_col0\" class=\"data row14 col0\" >plan</td>\n",
       "      <td id=\"T_5a345_row14_col1\" class=\"data row14 col1\" >10</td>\n",
       "    </tr>\n",
       "    <tr>\n",
       "      <th id=\"T_5a345_level0_row15\" class=\"row_heading level0 row15\" >16</th>\n",
       "      <td id=\"T_5a345_row15_col0\" class=\"data row15 col0\" >told</td>\n",
       "      <td id=\"T_5a345_row15_col1\" class=\"data row15 col1\" >9</td>\n",
       "    </tr>\n",
       "    <tr>\n",
       "      <th id=\"T_5a345_level0_row16\" class=\"row_heading level0 row16\" >17</th>\n",
       "      <td id=\"T_5a345_row16_col0\" class=\"data row16 col0\" >lost</td>\n",
       "      <td id=\"T_5a345_row16_col1\" class=\"data row16 col1\" >9</td>\n",
       "    </tr>\n",
       "    <tr>\n",
       "      <th id=\"T_5a345_level0_row17\" class=\"row_heading level0 row17\" >18</th>\n",
       "      <td id=\"T_5a345_row17_col0\" class=\"data row17 col0\" >board</td>\n",
       "      <td id=\"T_5a345_row17_col1\" class=\"data row17 col1\" >9</td>\n",
       "    </tr>\n",
       "    <tr>\n",
       "      <th id=\"T_5a345_level0_row18\" class=\"row_heading level0 row18\" >19</th>\n",
       "      <td id=\"T_5a345_row18_col0\" class=\"data row18 col0\" >avail</td>\n",
       "      <td id=\"T_5a345_row18_col1\" class=\"data row18 col1\" >8</td>\n",
       "    </tr>\n",
       "  </tbody>\n",
       "</table>\n"
      ],
      "text/plain": [
       "<pandas.io.formats.style.Styler at 0x275eb5f01f0>"
      ]
     },
     "execution_count": 27,
     "metadata": {},
     "output_type": "execute_result"
    }
   ],
   "source": [
    "#Most common Neutral words\n",
    "top = Counter([item for sublist in Neutral_sent['reviews'] for item in sublist])\n",
    "temp_neutral = pd.DataFrame(top.most_common(20))\n",
    "temp_neutral = temp_neutral.loc[1:,:]\n",
    "temp_neutral.columns = ['Common_words','count']\n",
    "temp_neutral.style.background_gradient(cmap='Blues')"
   ]
  },
  {
   "cell_type": "code",
   "execution_count": 36,
   "metadata": {},
   "outputs": [],
   "source": [
    "def plot_wordcloud(text, mask=None, max_words=100, max_font_size=100, figure_size=(24.0,16.0), color = 'white',\n",
    "                   title = None, title_size=40, image_color=False):\n",
    "    \n",
    "    wordcloud = WordCloud(background_color=color,\n",
    "                    max_words = max_words,\n",
    "                    max_font_size = max_font_size, \n",
    "                    random_state = 42,\n",
    "                    width=400, \n",
    "                    height=200,\n",
    "                    mask = mask)\n",
    "    wordcloud.generate(str(text))\n",
    "    \n",
    "    plt.figure(figsize=figure_size)\n",
    "    if image_color:\n",
    "        image_colors = ImageColorGenerator(mask);\n",
    "        plt.imshow(wordcloud.recolor(color_func=image_colors), interpolation=\"bilinear\");\n",
    "        plt.title(title, fontdict={'size': title_size,  \n",
    "                                  'verticalalignment': 'bottom'})\n",
    "    else:\n",
    "        plt.imshow(wordcloud);\n",
    "        plt.title(title, fontdict={'size': title_size, 'color': 'black', \n",
    "                                  'verticalalignment': 'bottom'})\n",
    "    plt.axis('off');\n",
    "    plt.tight_layout()  \n",
    "d = '/kaggle/input/trump-tweets/'"
   ]
  },
  {
   "cell_type": "code",
   "execution_count": 37,
   "metadata": {},
   "outputs": [
    {
     "data": {
      "image/png": "[encoded data removed]",
      "text/plain": [
       "<Figure size 2400x1600 with 1 Axes>"
      ]
     },
     "metadata": {},
     "output_type": "display_data"
    }
   ],
   "source": [
    "import numpy as np\n",
    "\n",
    "#pos_mask = np.array(Image.open('/kaggle/input/tweet-mask/tweet_mask.png'))\n",
    "plot_wordcloud(Neutral_sent.reviews,color='white',max_font_size=100,title_size=30,title=\"WordCloud of Neutral Tweets\")"
   ]
  },
  {
   "cell_type": "code",
   "execution_count": 38,
   "metadata": {},
   "outputs": [
    {
     "data": {
      "image/png": "[encoded data removed]",
      "text/plain": [
       "<Figure size 2400x1600 with 1 Axes>"
      ]
     },
     "metadata": {},
     "output_type": "display_data"
    }
   ],
   "source": [
    "plot_wordcloud(Positive_sent.reviews,color='white',max_font_size=100,title_size=30,title=\"WordCloud of Positive Tweets\")"
   ]
  },
  {
   "cell_type": "code",
   "execution_count": 39,
   "metadata": {},
   "outputs": [
    {
     "data": {
      "image/png": "[encoded data removed]",
      "text/plain": [
       "<Figure size 2400x1600 with 1 Axes>"
      ]
     },
     "metadata": {},
     "output_type": "display_data"
    }
   ],
   "source": [
    "plot_wordcloud(Negative_sent.reviews,color='white',max_font_size=100,title_size=30,title=\"WordCloud of Negative Tweets\")"
   ]
  }
 ],
 "metadata": {
  "kernelspec": {
   "display_name": "Python 3.9.13 ('venv': venv)",
   "language": "python",
   "name": "python3"
  },
  "language_info": {
   "codemirror_mode": {
    "name": "ipython",
    "version": 3
   },
   "file_extension": ".py",
   "mimetype": "text/x-python",
   "name": "python",
   "nbconvert_exporter": "python",
   "pygments_lexer": "ipython3",
   "version": "3.9.12"
  },
  "orig_nbformat": 4,
  "vscode": {
   "interpreter": {
    "hash": "4f7924c4c56b083e0e50eadfe7ef592a7a8ef70df33a0047f82280e6be1afe15"
   }
  }
 },
 "nbformat": 4,
 "nbformat_minor": 2
}
